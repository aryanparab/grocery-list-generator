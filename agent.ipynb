{
 "cells": [
  {
   "cell_type": "code",
   "execution_count": 1,
   "metadata": {},
   "outputs": [],
   "source": [
    "from phi.agent import Agent\n",
    "from phi.model.groq import Groq\n",
    "from phi.tools.exa import ExaTools"
   ]
  },
  {
   "cell_type": "code",
   "execution_count": 2,
   "metadata": {},
   "outputs": [],
   "source": [
    "md = \"llama-3.3-70b-versatile\"\n",
    "workout_data = \"\"\n",
    "reciepe_data= \"\""
   ]
  },
  {
   "cell_type": "code",
   "execution_count": 3,
   "metadata": {},
   "outputs": [],
   "source": [
    "with open('prev_data_workout.txt', 'r') as file:\n",
    "    workout_data = file.read()\n",
    "\n",
    "with open('prev_data_reciepe.txt', 'r') as file:\n",
    "    reciepe_data = file.read()"
   ]
  },
  {
   "cell_type": "code",
   "execution_count": 4,
   "metadata": {},
   "outputs": [],
   "source": [
    "cook_agent = Agent(\n",
    "    description=\"You will help the user with reciepes with the ingredients they have.\",\n",
    "    model = Groq(id=md),\n",
    "    name =\"Chef\",\n",
    "    tools=[ExaTools(api_key= \"de8ed4f8-7cd1-4be0-8e2b-7d9beeb7f21b\")],\n",
    "    add_history_to_messages=True,\n",
    "    markdown=True,\n",
    "    instructions=[\n",
    "        \"Search for recipes based on the ingredients and time available from the knowledge base.\",\n",
    "        \"Include the exact calories, preparation time, cooking instructions, and highlight allergens for the recommended recipes.\",\n",
    "        \"Always search exa for recipe links or tips related to the recipes apart from knowledge base.\",\n",
    "        \"Provide a list of recipes that match the user's requirements and preferences.\",\n",
    "        \"If the user has not provided many ingredients or only core element of the food, provide an easy reciepe which doesn't require many ingredients.\"\n",
    "        \"Always return steps of the cooking process\"\n",
    "    ],\n",
    ")"
   ]
  },
  {
   "cell_type": "code",
   "execution_count": 5,
   "metadata": {},
   "outputs": [],
   "source": [
    "exercise_agent = Agent(\n",
    "    description=\"you will create for the user a workout plan based on their preferences.\",\n",
    "    model = Groq(id=md),\n",
    "    name = \"Trainer\",\n",
    "    instructions=[\n",
    "        \"You are a highly skilled fitness trainer agent\",\n",
    "        \"Your goal is to create a workout plan for your users, and if they provide a workout plan you should be able to improve it\",\n",
    "        \"The workout plan should be matched to the goal that the user wants to achieve\",\n",
    "        \"Include for every exercise how it should be done and what muscles are activated during the same.\",\n",
    "        \"The size of output should be less than 6000 words\"\n",
    "    ]\n",
    "    , \n",
    "    tools=[ExaTools(api_key= \"de8ed4f8-7cd1-4be0-8e2b-7d9beeb7f21b\")]\n",
    ")"
   ]
  },
  {
   "cell_type": "code",
   "execution_count": 16,
   "metadata": {},
   "outputs": [],
   "source": [
    "summary_agent = Agent(\n",
    "    description=\"Your job is to summarise the given workout plan or receipe by extracting key elements.\",\n",
    "    model = Groq(id=md),\n",
    "    name =\"Summarizer\",\n",
    "    instructions=[\n",
    "        \"You are an expert summarizer and data analyser\",\n",
    "        \"Your goal is to analyse the input and extract key highlights from the input\",\n",
    "        \"If input is workout plan, identify the goals the workout is planning to achieve, the strain it puts on user and more valuable insights that will help another agent to create a receipe\",\n",
    "        \"If the input is a reciepe, ensure that you are taking the key elements and macros they are providing and return key inferences you make. Ensure that the ouput can be used for creating a workout plan\",\n",
    "    ],\n",
    "    tools=[ExaTools(api_key= \"de8ed4f8-7cd1-4be0-8e2b-7d9beeb7f21b\")]\n",
    "    \n",
    "\n",
    ")"
   ]
  },
  {
   "cell_type": "code",
   "execution_count": null,
   "metadata": {},
   "outputs": [],
   "source": [
    "while True:\n",
    "    print(\"About the user: \")\n",
    "    print(\"\\n Hi User! What Can I help with you today?\")\n",
    "    print(\"\\n 1. Exercise Agent\")\n",
    "    print(\"\\n 2. Cook me something\")\n",
    "    print(\" What's your mood today : \")\n",
    "    choice= int(input())\n",
    "\n",
    "    if choice==1:\n",
    "        age = input(\"Enter Age : \")\n",
    "        sex = input(\"Enter Sex : \")\n",
    "        exercise_freq = input(\"Enter current exe freq: \")\n",
    "        goal = input(\"Enter Goal: \")\n",
    "        days_to_workout = input(\"No. of days to workout per week: \")\n",
    "        gym_access = \"I have access to Gym\" if input(\"Do you have access to gym: \")==\"Yes\" else \"I do not have access to Gym\"\n",
    "        include_steps =\"Include cardio and steps goal\" if input(\"Tailor workout to include steps goal? \")==\"Yes\" else \"\"\n",
    "\n",
    "        input_statement = f\"\"\"\n",
    "        Hi trainer!! My name is User. I am a {age} year old {sex} who exercises {exercise_freq}. \n",
    "        My goal is to {goal}. Please provide me with a workout plan for {days_to_workout} days per week. {gym_access}. \n",
    "        {include_steps}\n",
    "\"\"\"\n",
    "        print(input_statement)\n",
    "        response = exercise_agent.run(input_statement, stream=False)\n",
    "        print(response)\n",
    "\n",
    "        while True:\n",
    "            if input(\"Do you want to make any changes to the output?(Y/N) : \") == \"Y\":\n",
    "                changes = input(\"Enter Changes : \")\n",
    "                input_statement = input_statement + f\"Plase conside the following points as important : {changes}\"\n",
    "                response = \"\"\n",
    "                for delta in exercise_agent.run(input_statement):\n",
    "                    response += delta\n",
    "            else:\n",
    "                break\n",
    "\n",
    "        save= input(\"Do you want to save the workout plan? (Y?N ): \")\n",
    "        if save ==\"Y\":\n",
    "            with open('prev_data_workout.txt', 'a') as file:\n",
    "                file.write(response)\n",
    "\n",
    "    elif choice ==2:\n",
    "        cook_agent.print_response(\n",
    "            'I have chicken with me. Suggest me 3 good and quick reciepes for it which are preferrably a balanced meal',stream = True\n",
    "        )\n",
    "\n",
    "    else:\n",
    "        print(\"Please select a valid option\")"
   ]
  },
  {
   "cell_type": "code",
   "execution_count": 6,
   "metadata": {},
   "outputs": [
    {
     "name": "stdout",
     "output_type": "stream",
     "text": [
      "\n",
      "        Hi trainer!! My name is User. I am a 23 year old Male who exercises daily. \n",
      "        My goal is to Muscular body. Please provide me with a workout plan for 6 days per week. I have access to Gym. \n",
      "        Include cardio and steps goal\n",
      "\n"
     ]
    }
   ],
   "source": [
    "age = input(\"Enter Age : \")\n",
    "sex = input(\"Enter Sex : \")\n",
    "exercise_freq = input(\"Enter current exe freq: \")\n",
    "goal = input(\"Enter Goal: \")\n",
    "days_to_workout = input(\"No. of days to workout per week: \")\n",
    "gym_access = \"I have access to Gym\" if input(\"Do you have access to gym: \")==\"Yes\" else \"I do not have access to Gym\"\n",
    "include_steps =\"Include cardio and steps goal\" if input(\"Tailor workout to include steps goal? \")==\"Yes\" else \"\"\n",
    "input_statement = f\"\"\"\n",
    "        Hi trainer!! My name is User. I am a {age} year old {sex} who exercises {exercise_freq}. \n",
    "        My goal is to {goal}. Please provide me with a workout plan for {days_to_workout} days per week. {gym_access}. \n",
    "        {include_steps}\n",
    "\"\"\"\n",
    "print(input_statement)\n",
    "response = exercise_agent.run(input_statement, stream=False)"
   ]
  },
  {
   "cell_type": "code",
   "execution_count": 7,
   "metadata": {},
   "outputs": [
    {
     "name": "stdout",
     "output_type": "stream",
     "text": [
      "content=\"As your trainer, I'll provide you with a 6-day workout plan to help you achieve your goal of a muscular body. Since you have access to a gym, we'll incorporate a mix of compound exercises and isolation exercises to target all major muscle groups.\\n\\n**Day 1: Chest and Triceps**\\n\\n1. Warm-up: 5-10 minutes of cardio (treadmill, bike, or elliptical) and dynamic stretching (arm circles, leg swings, etc.)\\n2. Barbell Bench Press: 4 sets of 8-12 reps\\n\\t* Lie on a flat bench and grip the barbell with your hands slightly wider than shoulder-width apart\\n\\t* Lower the bar to your chest, then press it upwards, extending your arms fully\\n\\t* Muscles activated: Pectoralis major, Anterior deltoids, Triceps brachii\\n3. Incline Dumbbell Press: 3 sets of 10-15 reps\\n\\t* Sit on an incline bench and hold a dumbbell in each hand\\n\\t* Press the dumbbells upwards, extending your arms fully, then lower them back to the starting position\\n\\t* Muscles activated: Upper Pectoralis major, Anterior deltoids\\n4. Cable Fly: 3 sets of 12-15 reps\\n\\t* Stand facing a cable machine with the cables at chest height\\n\\t* Hold a handle in each hand and press the cables outward, keeping your arms straight\\n\\t* Muscles activated: Pectoralis major\\n5. Tricep Pushdown: 3 sets of 10-12 reps\\n\\t* Hold a barbell or rope attachment on a cable machine with your hands shoulder-width apart\\n\\t* Extend the bar downwards, keeping your elbows close to your body\\n\\t* Muscles activated: Triceps brachii\\n6. Tricep Dips: 3 sets of 12-15 reps\\n\\t* Sit on the edge of a bench or chair and place your hands next to your hips\\n\\t* Lower your body by bending your elbows until your arms are bent at a 90-degree angle\\n\\t* Straighten your arms to return to the starting position\\n\\t* Muscles activated: Triceps brachii, Anterior deltoids\\n7. Cool-down: 5-10 minutes of stretching, focusing on your chest and triceps\\n\\n**Day 2: Back and Biceps**\\n\\n1. Warm-up: 5-10 minutes of cardio and dynamic stretching\\n2. Pull-ups: 3 sets of as many reps as possible\\n\\t* Hang from a pull-up bar with your hands shoulder-width apart\\n\\t* Pull yourself up until your chin clears the bar\\n\\t* Muscles activated: Latissimus dorsi, Biceps brachii, Teres major\\n3. Barbell Rows: 4 sets of 8-12 reps\\n\\t* Hold a barbell with your hands shoulder-width apart\\n\\t* Bend your knees slightly and lean forward at the hips\\n\\t* Lift the bar up to your chest, keeping your back straight\\n\\t* Muscles activated: Latissimus dorsi, Trapezius, Rhomboids\\n4. Lat Pulldowns: 3 sets of 10-12 reps\\n\\t* Sit at a lat pulldown machine with your knees securely under the knee pad\\n\\t* Grasp the bar with a shoulder-width overhand grip\\n\\t* Pull the bar down towards your chest, squeezing your lats at the top of the movement\\n\\t* Muscles activated: Latissimus dorsi\\n5. Dumbbell Bicep Curls: 3 sets of 10-12 reps\\n\\t* Stand with your feet shoulder-width apart and hold a dumbbell in each hand\\n\\t* Curl the dumbbells up towards your shoulders, keeping your upper arms still\\n\\t* Muscles activated: Biceps brachii\\n6. Hammer Curls: 3 sets of 10-12 reps\\n\\t* Stand with your feet shoulder-width apart and hold a dumbbell in each hand with your palms facing towards your body\\n\\t* Curl the dumbbells up towards your shoulders, keeping your upper arms still\\n\\t* Muscles activated: Biceps brachii, Brachialis\\n7. Cool-down: 5-10 minutes of stretching, focusing on your back and biceps\\n\\n**Day 3: Legs**\\n\\n1. Warm-up: 5-10 minutes of cardio and dynamic stretching\\n2. Squats: 4 sets of 8-12 reps\\n\\t* Stand with your feet shoulder-width apart and hold a barbell with your hands shoulder-width apart\\n\\t* Lower your body down into a squat, keeping your back straight and your knees behind your toes\\n\\t* Push through your heels to return to the starting position\\n\\t* Muscles activated: Quadriceps, Hamstrings, Gluteus maximus\\n3. Leg Press: 3 sets of 10-12 reps\\n\\t* Sit at a leg press machine and push the platform away from you with your feet\\n\\t* Lower the platform down, keeping your knees bent at a 90-degree angle\\n\\t* Push the platform back up to the starting position\\n\\t* Muscles activated: Quadriceps, Hamstrings, Gluteus maximus\\n4. Lunges: 3 sets of 10-12 reps (per leg)\\n\\t* Stand with your feet together and hold a dumbbell in one hand\\n\\t* Take a large step forward with one foot and lower your body down into a lunge\\n\\t* Push through your front heel to return to the starting position\\n\\t* Muscles activated: Quadriceps, Hamstrings, Gluteus maximus\\n5. Leg Extensions: 3 sets of 12-15 reps\\n\\t* Sit at a leg extension machine and lift the weight up with your legs\\n\\t* Lower the weight back down to the starting position\\n\\t* Muscles activated: Quadriceps\\n6. Leg Curls: 3 sets of 10-12 reps\\n\\t* Sit at a leg curl machine and lift the weight up with your legs\\n\\t* Lower the weight back down to the starting position\\n\\t* Muscles activated: Hamstrings\\n7. Cool-down: 5-10 minutes of stretching, focusing on your legs\\n\\n**Day 4: Shoulders and Abs**\\n\\n1. Warm-up: 5-10 minutes of cardio and dynamic stretching\\n2. Shoulder Press: 4 sets of 8-12 reps\\n\\t* Stand with your feet shoulder-width apart and hold a dumbbell or barbell at shoulder height\\n\\t* Press the weight straight up over your head\\n\\t* Muscles activated: Deltoids, Trapezius\\n3. Lateral Raises: 3 sets of 10-12 reps\\n\\t* Stand with your feet shoulder-width apart and hold a dumbbell in each hand at shoulder height\\n\\t* Raise the dumbbells out to the sides until they are at shoulder height\\n\\t* Muscles activated: Deltoids\\n4. Rear Delt Fly: 3 sets of 12-15 reps\\n\\t* Stand with your feet shoulder-width apart and hold a dumbbell in each hand with your arms extended\\n\\t* Lift the dumbbells out to the sides and back, keeping your arms straight\\n\\t* Muscles activated: Rear deltoids\\n5. Plank: 3 sets of 30-60 seconds\\n\\t* Start in a push-up position with your hands shoulder-width apart and your body in a straight line from head to heels\\n\\t* Engage your core and hold the position\\n\\t* Muscles activated: Core muscles (abs, obliques, etc.)\\n6. Russian Twists: 3 sets of 10-12 reps\\n\\t* Sit on the floor with your knees bent and feet flat\\n\\t* Hold a weight or medicine ball and twist your torso from side to side\\n\\t* Muscles activated: Obliques\\n7. Cool-down: 5-10 minutes of stretching, focusing on your shoulders and abs\\n\\n**Day 5: Arms**\\n\\n1. Warm-up: 5-10 minutes of cardio and dynamic stretching\\n2. Bench Dips: 3 sets of 10-12 reps\\n\\t* Sit on the edge of a bench or chair and place your hands next to your hips\\n\\t* Lower your body by bending your elbows until your arms are bent at a 90-degree angle\\n\\t* Straighten your arms to return to the starting position\\n\\t* Muscles activated: Triceps brachii, Anterior deltoids\\n3. Barbell Curls: 3 sets of 10-12 reps\\n\\t* Stand with your feet shoulder-width apart and hold a barbell with your hands shoulder-width apart\\n\\t* Curl the bar up towards your shoulders, keeping your upper arms still\\n\\t* Muscles activated: Biceps brachii\\n4. Hammer Curls: 3 sets of 10-12 reps\\n\\t* Stand with your feet shoulder-width apart and hold a dumbbell in each hand with your palms facing towards your body\\n\\t* Curl the dumbbells up towards your shoulders, keeping your upper arms still\\n\\t* Muscles activated: Biceps brachii, Brachialis\\n5. Tricep Extensions: 3 sets of 12-15 reps\\n\\t* Stand with your feet shoulder-width apart and hold a dumbbell or barbell with your hands shoulder-width apart\\n\\t* Extend the weight overhead, keeping your arms straight\\n\\t* Muscles activated: Triceps brachii\\n6. Cool-down: 5-10 minutes of stretching, focusing on your arms\\n\\n**Day 6: Cardio and Abs**\\n\\n1. Warm-up: 5-10 minutes of cardio and dynamic stretching\\n2. Cardio: 20-30 minutes of steady-state cardio (jogging, cycling, swimming, etc.)\\n3. Abs:\\n\\t* Plank: 3 sets of 30-60 seconds\\n\\t* Russian Twists: 3 sets of 10-12 reps\\n\\t* Leg Raises: 3 sets of 10-12 reps\\n\\t* Bicycle Crunches: 3 sets of 10-12 reps\\n4. Cool-down: 5-10 minutes of stretching, focusing on your entire body\\n\\n**Cardio and Steps Goal**\\n\\n* Aim for at least 150 minutes of moderate-intensity cardio per week\\n* Aim for at least 10,000 steps per day\\n* Incorporate high-intensity interval training (HIIT) for 20-30 minutes, 2-3 times per week\\n\\n**Additional Tips**\\n\\n* Eat a balanced diet with a caloric surplus to support muscle growth\\n* Ensure you're getting enough protein (1.6-2.2 grams per kilogram of body weight) to support muscle growth and repair\\n* Get at least 7-8 hours of sleep per night to aid in muscle recovery and growth\\n* Stay hydrated by drinking plenty of water throughout the day\\n\\nRemember, consistency and patience are key. Stick to the workout plan and make adjustments as needed. Don't forget to listen to your body and rest when needed. Good luck on your fitness journey!\" content_type='str' event='RunResponse' messages=[Message(role='system', content='you will create for the user a workout plan based on their preferences.\\n\\n## Instructions\\n- You are a highly skilled fitness trainer agent\\n- Your goal is to create a workout plan for your users, and if they provide a workout plan you should be able to improve it\\n- The workout plan should be matched to the goal that the user wants to achieve\\n- Include for every exercise how it should be done and what muscles are activated during the same.\\n- The size of output should be less than 6000 words', name=None, tool_call_id=None, tool_calls=None, audio=None, images=None, videos=None, tool_name=None, tool_args=None, tool_call_error=None, stop_after_tool_call=False, metrics={}, references=None, created_at=1739761511), Message(role='user', content='\\n        Hi trainer!! My name is User. I am a 23 year old Male who exercises daily. \\n        My goal is to Muscular body. Please provide me with a workout plan for 6 days per week. I have access to Gym. \\n        Include cardio and steps goal\\n', name=None, tool_call_id=None, tool_calls=None, audio=None, images=None, videos=None, tool_name=None, tool_args=None, tool_call_error=None, stop_after_tool_call=False, metrics={}, references=None, created_at=1739761511), Message(role='assistant', content=\"As your trainer, I'll provide you with a 6-day workout plan to help you achieve your goal of a muscular body. Since you have access to a gym, we'll incorporate a mix of compound exercises and isolation exercises to target all major muscle groups.\\n\\n**Day 1: Chest and Triceps**\\n\\n1. Warm-up: 5-10 minutes of cardio (treadmill, bike, or elliptical) and dynamic stretching (arm circles, leg swings, etc.)\\n2. Barbell Bench Press: 4 sets of 8-12 reps\\n\\t* Lie on a flat bench and grip the barbell with your hands slightly wider than shoulder-width apart\\n\\t* Lower the bar to your chest, then press it upwards, extending your arms fully\\n\\t* Muscles activated: Pectoralis major, Anterior deltoids, Triceps brachii\\n3. Incline Dumbbell Press: 3 sets of 10-15 reps\\n\\t* Sit on an incline bench and hold a dumbbell in each hand\\n\\t* Press the dumbbells upwards, extending your arms fully, then lower them back to the starting position\\n\\t* Muscles activated: Upper Pectoralis major, Anterior deltoids\\n4. Cable Fly: 3 sets of 12-15 reps\\n\\t* Stand facing a cable machine with the cables at chest height\\n\\t* Hold a handle in each hand and press the cables outward, keeping your arms straight\\n\\t* Muscles activated: Pectoralis major\\n5. Tricep Pushdown: 3 sets of 10-12 reps\\n\\t* Hold a barbell or rope attachment on a cable machine with your hands shoulder-width apart\\n\\t* Extend the bar downwards, keeping your elbows close to your body\\n\\t* Muscles activated: Triceps brachii\\n6. Tricep Dips: 3 sets of 12-15 reps\\n\\t* Sit on the edge of a bench or chair and place your hands next to your hips\\n\\t* Lower your body by bending your elbows until your arms are bent at a 90-degree angle\\n\\t* Straighten your arms to return to the starting position\\n\\t* Muscles activated: Triceps brachii, Anterior deltoids\\n7. Cool-down: 5-10 minutes of stretching, focusing on your chest and triceps\\n\\n**Day 2: Back and Biceps**\\n\\n1. Warm-up: 5-10 minutes of cardio and dynamic stretching\\n2. Pull-ups: 3 sets of as many reps as possible\\n\\t* Hang from a pull-up bar with your hands shoulder-width apart\\n\\t* Pull yourself up until your chin clears the bar\\n\\t* Muscles activated: Latissimus dorsi, Biceps brachii, Teres major\\n3. Barbell Rows: 4 sets of 8-12 reps\\n\\t* Hold a barbell with your hands shoulder-width apart\\n\\t* Bend your knees slightly and lean forward at the hips\\n\\t* Lift the bar up to your chest, keeping your back straight\\n\\t* Muscles activated: Latissimus dorsi, Trapezius, Rhomboids\\n4. Lat Pulldowns: 3 sets of 10-12 reps\\n\\t* Sit at a lat pulldown machine with your knees securely under the knee pad\\n\\t* Grasp the bar with a shoulder-width overhand grip\\n\\t* Pull the bar down towards your chest, squeezing your lats at the top of the movement\\n\\t* Muscles activated: Latissimus dorsi\\n5. Dumbbell Bicep Curls: 3 sets of 10-12 reps\\n\\t* Stand with your feet shoulder-width apart and hold a dumbbell in each hand\\n\\t* Curl the dumbbells up towards your shoulders, keeping your upper arms still\\n\\t* Muscles activated: Biceps brachii\\n6. Hammer Curls: 3 sets of 10-12 reps\\n\\t* Stand with your feet shoulder-width apart and hold a dumbbell in each hand with your palms facing towards your body\\n\\t* Curl the dumbbells up towards your shoulders, keeping your upper arms still\\n\\t* Muscles activated: Biceps brachii, Brachialis\\n7. Cool-down: 5-10 minutes of stretching, focusing on your back and biceps\\n\\n**Day 3: Legs**\\n\\n1. Warm-up: 5-10 minutes of cardio and dynamic stretching\\n2. Squats: 4 sets of 8-12 reps\\n\\t* Stand with your feet shoulder-width apart and hold a barbell with your hands shoulder-width apart\\n\\t* Lower your body down into a squat, keeping your back straight and your knees behind your toes\\n\\t* Push through your heels to return to the starting position\\n\\t* Muscles activated: Quadriceps, Hamstrings, Gluteus maximus\\n3. Leg Press: 3 sets of 10-12 reps\\n\\t* Sit at a leg press machine and push the platform away from you with your feet\\n\\t* Lower the platform down, keeping your knees bent at a 90-degree angle\\n\\t* Push the platform back up to the starting position\\n\\t* Muscles activated: Quadriceps, Hamstrings, Gluteus maximus\\n4. Lunges: 3 sets of 10-12 reps (per leg)\\n\\t* Stand with your feet together and hold a dumbbell in one hand\\n\\t* Take a large step forward with one foot and lower your body down into a lunge\\n\\t* Push through your front heel to return to the starting position\\n\\t* Muscles activated: Quadriceps, Hamstrings, Gluteus maximus\\n5. Leg Extensions: 3 sets of 12-15 reps\\n\\t* Sit at a leg extension machine and lift the weight up with your legs\\n\\t* Lower the weight back down to the starting position\\n\\t* Muscles activated: Quadriceps\\n6. Leg Curls: 3 sets of 10-12 reps\\n\\t* Sit at a leg curl machine and lift the weight up with your legs\\n\\t* Lower the weight back down to the starting position\\n\\t* Muscles activated: Hamstrings\\n7. Cool-down: 5-10 minutes of stretching, focusing on your legs\\n\\n**Day 4: Shoulders and Abs**\\n\\n1. Warm-up: 5-10 minutes of cardio and dynamic stretching\\n2. Shoulder Press: 4 sets of 8-12 reps\\n\\t* Stand with your feet shoulder-width apart and hold a dumbbell or barbell at shoulder height\\n\\t* Press the weight straight up over your head\\n\\t* Muscles activated: Deltoids, Trapezius\\n3. Lateral Raises: 3 sets of 10-12 reps\\n\\t* Stand with your feet shoulder-width apart and hold a dumbbell in each hand at shoulder height\\n\\t* Raise the dumbbells out to the sides until they are at shoulder height\\n\\t* Muscles activated: Deltoids\\n4. Rear Delt Fly: 3 sets of 12-15 reps\\n\\t* Stand with your feet shoulder-width apart and hold a dumbbell in each hand with your arms extended\\n\\t* Lift the dumbbells out to the sides and back, keeping your arms straight\\n\\t* Muscles activated: Rear deltoids\\n5. Plank: 3 sets of 30-60 seconds\\n\\t* Start in a push-up position with your hands shoulder-width apart and your body in a straight line from head to heels\\n\\t* Engage your core and hold the position\\n\\t* Muscles activated: Core muscles (abs, obliques, etc.)\\n6. Russian Twists: 3 sets of 10-12 reps\\n\\t* Sit on the floor with your knees bent and feet flat\\n\\t* Hold a weight or medicine ball and twist your torso from side to side\\n\\t* Muscles activated: Obliques\\n7. Cool-down: 5-10 minutes of stretching, focusing on your shoulders and abs\\n\\n**Day 5: Arms**\\n\\n1. Warm-up: 5-10 minutes of cardio and dynamic stretching\\n2. Bench Dips: 3 sets of 10-12 reps\\n\\t* Sit on the edge of a bench or chair and place your hands next to your hips\\n\\t* Lower your body by bending your elbows until your arms are bent at a 90-degree angle\\n\\t* Straighten your arms to return to the starting position\\n\\t* Muscles activated: Triceps brachii, Anterior deltoids\\n3. Barbell Curls: 3 sets of 10-12 reps\\n\\t* Stand with your feet shoulder-width apart and hold a barbell with your hands shoulder-width apart\\n\\t* Curl the bar up towards your shoulders, keeping your upper arms still\\n\\t* Muscles activated: Biceps brachii\\n4. Hammer Curls: 3 sets of 10-12 reps\\n\\t* Stand with your feet shoulder-width apart and hold a dumbbell in each hand with your palms facing towards your body\\n\\t* Curl the dumbbells up towards your shoulders, keeping your upper arms still\\n\\t* Muscles activated: Biceps brachii, Brachialis\\n5. Tricep Extensions: 3 sets of 12-15 reps\\n\\t* Stand with your feet shoulder-width apart and hold a dumbbell or barbell with your hands shoulder-width apart\\n\\t* Extend the weight overhead, keeping your arms straight\\n\\t* Muscles activated: Triceps brachii\\n6. Cool-down: 5-10 minutes of stretching, focusing on your arms\\n\\n**Day 6: Cardio and Abs**\\n\\n1. Warm-up: 5-10 minutes of cardio and dynamic stretching\\n2. Cardio: 20-30 minutes of steady-state cardio (jogging, cycling, swimming, etc.)\\n3. Abs:\\n\\t* Plank: 3 sets of 30-60 seconds\\n\\t* Russian Twists: 3 sets of 10-12 reps\\n\\t* Leg Raises: 3 sets of 10-12 reps\\n\\t* Bicycle Crunches: 3 sets of 10-12 reps\\n4. Cool-down: 5-10 minutes of stretching, focusing on your entire body\\n\\n**Cardio and Steps Goal**\\n\\n* Aim for at least 150 minutes of moderate-intensity cardio per week\\n* Aim for at least 10,000 steps per day\\n* Incorporate high-intensity interval training (HIIT) for 20-30 minutes, 2-3 times per week\\n\\n**Additional Tips**\\n\\n* Eat a balanced diet with a caloric surplus to support muscle growth\\n* Ensure you're getting enough protein (1.6-2.2 grams per kilogram of body weight) to support muscle growth and repair\\n* Get at least 7-8 hours of sleep per night to aid in muscle recovery and growth\\n* Stay hydrated by drinking plenty of water throughout the day\\n\\nRemember, consistency and patience are key. Stick to the workout plan and make adjustments as needed. Don't forget to listen to your body and rest when needed. Good luck on your fitness journey!\", name=None, tool_call_id=None, tool_calls=None, audio=None, images=None, videos=None, tool_name=None, tool_args=None, tool_call_error=None, stop_after_tool_call=False, metrics={'time': 8.884934458000004, 'input_tokens': 431, 'prompt_tokens': 431, 'output_tokens': 2327, 'completion_tokens': 2327, 'total_tokens': 2758, 'completion_time': 8.461818182, 'prompt_time': 0.06179953, 'queue_time': 0.051732299, 'total_time': 8.523617712}, references=None, created_at=1739761519)] metrics=defaultdict(<class 'list'>, {'time': [8.884934458000004], 'input_tokens': [431], 'prompt_tokens': [431], 'output_tokens': [2327], 'completion_tokens': [2327], 'total_tokens': [2758], 'completion_time': [8.461818182], 'prompt_time': [0.06179953], 'queue_time': [0.051732299], 'total_time': [8.523617712]}) model='llama-3.3-70b-versatile' run_id='306d727a-fdda-43cc-af15-4e997bbaf77a' agent_id='4ca83c48-f131-4651-b9ba-0a6ce2ac78f6' session_id='d508d94c-bc8d-4d89-95ca-cf8aed4f25da' workflow_id=None tools=None images=None videos=None audio=None response_audio=None extra_data=None created_at=1739761375\n"
     ]
    }
   ],
   "source": [
    "print(response)"
   ]
  },
  {
   "cell_type": "code",
   "execution_count": 9,
   "metadata": {},
   "outputs": [
    {
     "data": {
      "text/plain": [
       "\"As your trainer, I'll provide you with a 6-day workout plan to help you achieve your goal of a muscular body. Since you have access to a gym, we'll incorporate a mix of compound exercises and isolation exercises to target all major muscle groups.\\n\\n**Day 1: Chest and Triceps**\\n\\n1. Warm-up: 5-10 minutes of cardio (treadmill, bike, or elliptical) and dynamic stretching (arm circles, leg swings, etc.)\\n2. Barbell Bench Press: 4 sets of 8-12 reps\\n\\t* Lie on a flat bench and grip the barbell with your hands slightly wider than shoulder-width apart\\n\\t* Lower the bar to your chest, then press it upwards, extending your arms fully\\n\\t* Muscles activated: Pectoralis major, Anterior deltoids, Triceps brachii\\n3. Incline Dumbbell Press: 3 sets of 10-15 reps\\n\\t* Sit on an incline bench and hold a dumbbell in each hand\\n\\t* Press the dumbbells upwards, extending your arms fully, then lower them back to the starting position\\n\\t* Muscles activated: Upper Pectoralis major, Anterior deltoids\\n4. Cable Fly: 3 sets of 12-15 reps\\n\\t* Stand facing a cable machine with the cables at chest height\\n\\t* Hold a handle in each hand and press the cables outward, keeping your arms straight\\n\\t* Muscles activated: Pectoralis major\\n5. Tricep Pushdown: 3 sets of 10-12 reps\\n\\t* Hold a barbell or rope attachment on a cable machine with your hands shoulder-width apart\\n\\t* Extend the bar downwards, keeping your elbows close to your body\\n\\t* Muscles activated: Triceps brachii\\n6. Tricep Dips: 3 sets of 12-15 reps\\n\\t* Sit on the edge of a bench or chair and place your hands next to your hips\\n\\t* Lower your body by bending your elbows until your arms are bent at a 90-degree angle\\n\\t* Straighten your arms to return to the starting position\\n\\t* Muscles activated: Triceps brachii, Anterior deltoids\\n7. Cool-down: 5-10 minutes of stretching, focusing on your chest and triceps\\n\\n**Day 2: Back and Biceps**\\n\\n1. Warm-up: 5-10 minutes of cardio and dynamic stretching\\n2. Pull-ups: 3 sets of as many reps as possible\\n\\t* Hang from a pull-up bar with your hands shoulder-width apart\\n\\t* Pull yourself up until your chin clears the bar\\n\\t* Muscles activated: Latissimus dorsi, Biceps brachii, Teres major\\n3. Barbell Rows: 4 sets of 8-12 reps\\n\\t* Hold a barbell with your hands shoulder-width apart\\n\\t* Bend your knees slightly and lean forward at the hips\\n\\t* Lift the bar up to your chest, keeping your back straight\\n\\t* Muscles activated: Latissimus dorsi, Trapezius, Rhomboids\\n4. Lat Pulldowns: 3 sets of 10-12 reps\\n\\t* Sit at a lat pulldown machine with your knees securely under the knee pad\\n\\t* Grasp the bar with a shoulder-width overhand grip\\n\\t* Pull the bar down towards your chest, squeezing your lats at the top of the movement\\n\\t* Muscles activated: Latissimus dorsi\\n5. Dumbbell Bicep Curls: 3 sets of 10-12 reps\\n\\t* Stand with your feet shoulder-width apart and hold a dumbbell in each hand\\n\\t* Curl the dumbbells up towards your shoulders, keeping your upper arms still\\n\\t* Muscles activated: Biceps brachii\\n6. Hammer Curls: 3 sets of 10-12 reps\\n\\t* Stand with your feet shoulder-width apart and hold a dumbbell in each hand with your palms facing towards your body\\n\\t* Curl the dumbbells up towards your shoulders, keeping your upper arms still\\n\\t* Muscles activated: Biceps brachii, Brachialis\\n7. Cool-down: 5-10 minutes of stretching, focusing on your back and biceps\\n\\n**Day 3: Legs**\\n\\n1. Warm-up: 5-10 minutes of cardio and dynamic stretching\\n2. Squats: 4 sets of 8-12 reps\\n\\t* Stand with your feet shoulder-width apart and hold a barbell with your hands shoulder-width apart\\n\\t* Lower your body down into a squat, keeping your back straight and your knees behind your toes\\n\\t* Push through your heels to return to the starting position\\n\\t* Muscles activated: Quadriceps, Hamstrings, Gluteus maximus\\n3. Leg Press: 3 sets of 10-12 reps\\n\\t* Sit at a leg press machine and push the platform away from you with your feet\\n\\t* Lower the platform down, keeping your knees bent at a 90-degree angle\\n\\t* Push the platform back up to the starting position\\n\\t* Muscles activated: Quadriceps, Hamstrings, Gluteus maximus\\n4. Lunges: 3 sets of 10-12 reps (per leg)\\n\\t* Stand with your feet together and hold a dumbbell in one hand\\n\\t* Take a large step forward with one foot and lower your body down into a lunge\\n\\t* Push through your front heel to return to the starting position\\n\\t* Muscles activated: Quadriceps, Hamstrings, Gluteus maximus\\n5. Leg Extensions: 3 sets of 12-15 reps\\n\\t* Sit at a leg extension machine and lift the weight up with your legs\\n\\t* Lower the weight back down to the starting position\\n\\t* Muscles activated: Quadriceps\\n6. Leg Curls: 3 sets of 10-12 reps\\n\\t* Sit at a leg curl machine and lift the weight up with your legs\\n\\t* Lower the weight back down to the starting position\\n\\t* Muscles activated: Hamstrings\\n7. Cool-down: 5-10 minutes of stretching, focusing on your legs\\n\\n**Day 4: Shoulders and Abs**\\n\\n1. Warm-up: 5-10 minutes of cardio and dynamic stretching\\n2. Shoulder Press: 4 sets of 8-12 reps\\n\\t* Stand with your feet shoulder-width apart and hold a dumbbell or barbell at shoulder height\\n\\t* Press the weight straight up over your head\\n\\t* Muscles activated: Deltoids, Trapezius\\n3. Lateral Raises: 3 sets of 10-12 reps\\n\\t* Stand with your feet shoulder-width apart and hold a dumbbell in each hand at shoulder height\\n\\t* Raise the dumbbells out to the sides until they are at shoulder height\\n\\t* Muscles activated: Deltoids\\n4. Rear Delt Fly: 3 sets of 12-15 reps\\n\\t* Stand with your feet shoulder-width apart and hold a dumbbell in each hand with your arms extended\\n\\t* Lift the dumbbells out to the sides and back, keeping your arms straight\\n\\t* Muscles activated: Rear deltoids\\n5. Plank: 3 sets of 30-60 seconds\\n\\t* Start in a push-up position with your hands shoulder-width apart and your body in a straight line from head to heels\\n\\t* Engage your core and hold the position\\n\\t* Muscles activated: Core muscles (abs, obliques, etc.)\\n6. Russian Twists: 3 sets of 10-12 reps\\n\\t* Sit on the floor with your knees bent and feet flat\\n\\t* Hold a weight or medicine ball and twist your torso from side to side\\n\\t* Muscles activated: Obliques\\n7. Cool-down: 5-10 minutes of stretching, focusing on your shoulders and abs\\n\\n**Day 5: Arms**\\n\\n1. Warm-up: 5-10 minutes of cardio and dynamic stretching\\n2. Bench Dips: 3 sets of 10-12 reps\\n\\t* Sit on the edge of a bench or chair and place your hands next to your hips\\n\\t* Lower your body by bending your elbows until your arms are bent at a 90-degree angle\\n\\t* Straighten your arms to return to the starting position\\n\\t* Muscles activated: Triceps brachii, Anterior deltoids\\n3. Barbell Curls: 3 sets of 10-12 reps\\n\\t* Stand with your feet shoulder-width apart and hold a barbell with your hands shoulder-width apart\\n\\t* Curl the bar up towards your shoulders, keeping your upper arms still\\n\\t* Muscles activated: Biceps brachii\\n4. Hammer Curls: 3 sets of 10-12 reps\\n\\t* Stand with your feet shoulder-width apart and hold a dumbbell in each hand with your palms facing towards your body\\n\\t* Curl the dumbbells up towards your shoulders, keeping your upper arms still\\n\\t* Muscles activated: Biceps brachii, Brachialis\\n5. Tricep Extensions: 3 sets of 12-15 reps\\n\\t* Stand with your feet shoulder-width apart and hold a dumbbell or barbell with your hands shoulder-width apart\\n\\t* Extend the weight overhead, keeping your arms straight\\n\\t* Muscles activated: Triceps brachii\\n6. Cool-down: 5-10 minutes of stretching, focusing on your arms\\n\\n**Day 6: Cardio and Abs**\\n\\n1. Warm-up: 5-10 minutes of cardio and dynamic stretching\\n2. Cardio: 20-30 minutes of steady-state cardio (jogging, cycling, swimming, etc.)\\n3. Abs:\\n\\t* Plank: 3 sets of 30-60 seconds\\n\\t* Russian Twists: 3 sets of 10-12 reps\\n\\t* Leg Raises: 3 sets of 10-12 reps\\n\\t* Bicycle Crunches: 3 sets of 10-12 reps\\n4. Cool-down: 5-10 minutes of stretching, focusing on your entire body\\n\\n**Cardio and Steps Goal**\\n\\n* Aim for at least 150 minutes of moderate-intensity cardio per week\\n* Aim for at least 10,000 steps per day\\n* Incorporate high-intensity interval training (HIIT) for 20-30 minutes, 2-3 times per week\\n\\n**Additional Tips**\\n\\n* Eat a balanced diet with a caloric surplus to support muscle growth\\n* Ensure you're getting enough protein (1.6-2.2 grams per kilogram of body weight) to support muscle growth and repair\\n* Get at least 7-8 hours of sleep per night to aid in muscle recovery and growth\\n* Stay hydrated by drinking plenty of water throughout the day\\n\\nRemember, consistency and patience are key. Stick to the workout plan and make adjustments as needed. Don't forget to listen to your body and rest when needed. Good luck on your fitness journey!\""
      ]
     },
     "execution_count": 9,
     "metadata": {},
     "output_type": "execute_result"
    }
   ],
   "source": [
    "response.content"
   ]
  },
  {
   "cell_type": "code",
   "execution_count": 10,
   "metadata": {},
   "outputs": [
    {
     "name": "stdout",
     "output_type": "stream",
     "text": [
      "As your trainer, I'll provide you with a 6-day workout plan to help you achieve your goal of a muscular body. Since you have access to a gym, we'll incorporate a mix of compound exercises and isolation exercises to target all major muscle groups.\n",
      "\n",
      "**Day 1: Chest and Triceps**\n",
      "\n",
      "1. Warm-up: 5-10 minutes of cardio (treadmill, bike, or elliptical) and dynamic stretching (arm circles, leg swings, etc.)\n",
      "2. Barbell Bench Press: 4 sets of 8-12 reps\n",
      "\t* Lie on a flat bench and grip the barbell with your hands slightly wider than shoulder-width apart\n",
      "\t* Lower the bar to your chest, then press it upwards, extending your arms fully\n",
      "\t* Muscles activated: Pectoralis major, Anterior deltoids, Triceps brachii\n",
      "3. Incline Dumbbell Press: 3 sets of 10-15 reps\n",
      "\t* Sit on an incline bench and hold a dumbbell in each hand\n",
      "\t* Press the dumbbells upwards, extending your arms fully, then lower them back to the starting position\n",
      "\t* Muscles activated: Upper Pectoralis major, Anterior deltoids\n",
      "4. Cable Fly: 3 sets of 12-15 reps\n",
      "\t* Stand facing a cable machine with the cables at chest height\n",
      "\t* Hold a handle in each hand and press the cables outward, keeping your arms straight\n",
      "\t* Muscles activated: Pectoralis major\n",
      "5. Tricep Pushdown: 3 sets of 10-12 reps\n",
      "\t* Hold a barbell or rope attachment on a cable machine with your hands shoulder-width apart\n",
      "\t* Extend the bar downwards, keeping your elbows close to your body\n",
      "\t* Muscles activated: Triceps brachii\n",
      "6. Tricep Dips: 3 sets of 12-15 reps\n",
      "\t* Sit on the edge of a bench or chair and place your hands next to your hips\n",
      "\t* Lower your body by bending your elbows until your arms are bent at a 90-degree angle\n",
      "\t* Straighten your arms to return to the starting position\n",
      "\t* Muscles activated: Triceps brachii, Anterior deltoids\n",
      "7. Cool-down: 5-10 minutes of stretching, focusing on your chest and triceps\n",
      "\n",
      "**Day 2: Back and Biceps**\n",
      "\n",
      "1. Warm-up: 5-10 minutes of cardio and dynamic stretching\n",
      "2. Pull-ups: 3 sets of as many reps as possible\n",
      "\t* Hang from a pull-up bar with your hands shoulder-width apart\n",
      "\t* Pull yourself up until your chin clears the bar\n",
      "\t* Muscles activated: Latissimus dorsi, Biceps brachii, Teres major\n",
      "3. Barbell Rows: 4 sets of 8-12 reps\n",
      "\t* Hold a barbell with your hands shoulder-width apart\n",
      "\t* Bend your knees slightly and lean forward at the hips\n",
      "\t* Lift the bar up to your chest, keeping your back straight\n",
      "\t* Muscles activated: Latissimus dorsi, Trapezius, Rhomboids\n",
      "4. Lat Pulldowns: 3 sets of 10-12 reps\n",
      "\t* Sit at a lat pulldown machine with your knees securely under the knee pad\n",
      "\t* Grasp the bar with a shoulder-width overhand grip\n",
      "\t* Pull the bar down towards your chest, squeezing your lats at the top of the movement\n",
      "\t* Muscles activated: Latissimus dorsi\n",
      "5. Dumbbell Bicep Curls: 3 sets of 10-12 reps\n",
      "\t* Stand with your feet shoulder-width apart and hold a dumbbell in each hand\n",
      "\t* Curl the dumbbells up towards your shoulders, keeping your upper arms still\n",
      "\t* Muscles activated: Biceps brachii\n",
      "6. Hammer Curls: 3 sets of 10-12 reps\n",
      "\t* Stand with your feet shoulder-width apart and hold a dumbbell in each hand with your palms facing towards your body\n",
      "\t* Curl the dumbbells up towards your shoulders, keeping your upper arms still\n",
      "\t* Muscles activated: Biceps brachii, Brachialis\n",
      "7. Cool-down: 5-10 minutes of stretching, focusing on your back and biceps\n",
      "\n",
      "**Day 3: Legs**\n",
      "\n",
      "1. Warm-up: 5-10 minutes of cardio and dynamic stretching\n",
      "2. Squats: 4 sets of 8-12 reps\n",
      "\t* Stand with your feet shoulder-width apart and hold a barbell with your hands shoulder-width apart\n",
      "\t* Lower your body down into a squat, keeping your back straight and your knees behind your toes\n",
      "\t* Push through your heels to return to the starting position\n",
      "\t* Muscles activated: Quadriceps, Hamstrings, Gluteus maximus\n",
      "3. Leg Press: 3 sets of 10-12 reps\n",
      "\t* Sit at a leg press machine and push the platform away from you with your feet\n",
      "\t* Lower the platform down, keeping your knees bent at a 90-degree angle\n",
      "\t* Push the platform back up to the starting position\n",
      "\t* Muscles activated: Quadriceps, Hamstrings, Gluteus maximus\n",
      "4. Lunges: 3 sets of 10-12 reps (per leg)\n",
      "\t* Stand with your feet together and hold a dumbbell in one hand\n",
      "\t* Take a large step forward with one foot and lower your body down into a lunge\n",
      "\t* Push through your front heel to return to the starting position\n",
      "\t* Muscles activated: Quadriceps, Hamstrings, Gluteus maximus\n",
      "5. Leg Extensions: 3 sets of 12-15 reps\n",
      "\t* Sit at a leg extension machine and lift the weight up with your legs\n",
      "\t* Lower the weight back down to the starting position\n",
      "\t* Muscles activated: Quadriceps\n",
      "6. Leg Curls: 3 sets of 10-12 reps\n",
      "\t* Sit at a leg curl machine and lift the weight up with your legs\n",
      "\t* Lower the weight back down to the starting position\n",
      "\t* Muscles activated: Hamstrings\n",
      "7. Cool-down: 5-10 minutes of stretching, focusing on your legs\n",
      "\n",
      "**Day 4: Shoulders and Abs**\n",
      "\n",
      "1. Warm-up: 5-10 minutes of cardio and dynamic stretching\n",
      "2. Shoulder Press: 4 sets of 8-12 reps\n",
      "\t* Stand with your feet shoulder-width apart and hold a dumbbell or barbell at shoulder height\n",
      "\t* Press the weight straight up over your head\n",
      "\t* Muscles activated: Deltoids, Trapezius\n",
      "3. Lateral Raises: 3 sets of 10-12 reps\n",
      "\t* Stand with your feet shoulder-width apart and hold a dumbbell in each hand at shoulder height\n",
      "\t* Raise the dumbbells out to the sides until they are at shoulder height\n",
      "\t* Muscles activated: Deltoids\n",
      "4. Rear Delt Fly: 3 sets of 12-15 reps\n",
      "\t* Stand with your feet shoulder-width apart and hold a dumbbell in each hand with your arms extended\n",
      "\t* Lift the dumbbells out to the sides and back, keeping your arms straight\n",
      "\t* Muscles activated: Rear deltoids\n",
      "5. Plank: 3 sets of 30-60 seconds\n",
      "\t* Start in a push-up position with your hands shoulder-width apart and your body in a straight line from head to heels\n",
      "\t* Engage your core and hold the position\n",
      "\t* Muscles activated: Core muscles (abs, obliques, etc.)\n",
      "6. Russian Twists: 3 sets of 10-12 reps\n",
      "\t* Sit on the floor with your knees bent and feet flat\n",
      "\t* Hold a weight or medicine ball and twist your torso from side to side\n",
      "\t* Muscles activated: Obliques\n",
      "7. Cool-down: 5-10 minutes of stretching, focusing on your shoulders and abs\n",
      "\n",
      "**Day 5: Arms**\n",
      "\n",
      "1. Warm-up: 5-10 minutes of cardio and dynamic stretching\n",
      "2. Bench Dips: 3 sets of 10-12 reps\n",
      "\t* Sit on the edge of a bench or chair and place your hands next to your hips\n",
      "\t* Lower your body by bending your elbows until your arms are bent at a 90-degree angle\n",
      "\t* Straighten your arms to return to the starting position\n",
      "\t* Muscles activated: Triceps brachii, Anterior deltoids\n",
      "3. Barbell Curls: 3 sets of 10-12 reps\n",
      "\t* Stand with your feet shoulder-width apart and hold a barbell with your hands shoulder-width apart\n",
      "\t* Curl the bar up towards your shoulders, keeping your upper arms still\n",
      "\t* Muscles activated: Biceps brachii\n",
      "4. Hammer Curls: 3 sets of 10-12 reps\n",
      "\t* Stand with your feet shoulder-width apart and hold a dumbbell in each hand with your palms facing towards your body\n",
      "\t* Curl the dumbbells up towards your shoulders, keeping your upper arms still\n",
      "\t* Muscles activated: Biceps brachii, Brachialis\n",
      "5. Tricep Extensions: 3 sets of 12-15 reps\n",
      "\t* Stand with your feet shoulder-width apart and hold a dumbbell or barbell with your hands shoulder-width apart\n",
      "\t* Extend the weight overhead, keeping your arms straight\n",
      "\t* Muscles activated: Triceps brachii\n",
      "6. Cool-down: 5-10 minutes of stretching, focusing on your arms\n",
      "\n",
      "**Day 6: Cardio and Abs**\n",
      "\n",
      "1. Warm-up: 5-10 minutes of cardio and dynamic stretching\n",
      "2. Cardio: 20-30 minutes of steady-state cardio (jogging, cycling, swimming, etc.)\n",
      "3. Abs:\n",
      "\t* Plank: 3 sets of 30-60 seconds\n",
      "\t* Russian Twists: 3 sets of 10-12 reps\n",
      "\t* Leg Raises: 3 sets of 10-12 reps\n",
      "\t* Bicycle Crunches: 3 sets of 10-12 reps\n",
      "4. Cool-down: 5-10 minutes of stretching, focusing on your entire body\n",
      "\n",
      "**Cardio and Steps Goal**\n",
      "\n",
      "* Aim for at least 150 minutes of moderate-intensity cardio per week\n",
      "* Aim for at least 10,000 steps per day\n",
      "* Incorporate high-intensity interval training (HIIT) for 20-30 minutes, 2-3 times per week\n",
      "\n",
      "**Additional Tips**\n",
      "\n",
      "* Eat a balanced diet with a caloric surplus to support muscle growth\n",
      "* Ensure you're getting enough protein (1.6-2.2 grams per kilogram of body weight) to support muscle growth and repair\n",
      "* Get at least 7-8 hours of sleep per night to aid in muscle recovery and growth\n",
      "* Stay hydrated by drinking plenty of water throughout the day\n",
      "\n",
      "Remember, consistency and patience are key. Stick to the workout plan and make adjustments as needed. Don't forget to listen to your body and rest when needed. Good luck on your fitness journey!\n"
     ]
    }
   ],
   "source": [
    "print(str(response.content))"
   ]
  },
  {
   "cell_type": "code",
   "execution_count": 2,
   "metadata": {},
   "outputs": [],
   "source": [
    "shopping_dict = {\n",
    "    \"Trader Joe's\": [\n",
    "        (\"Chicken Breast (2 lbs)\", 7.40),\n",
    "        (\"Tofu (1 lb)\", 2.29),\n",
    "        (\"Spinach (1 lb)\", 3.49),\n",
    "        (\"Tomatoes (2 lbs)\", 3.79),\n",
    "        (\"Onions (2 lbs)\", 1.99),\n",
    "        (\"Garlic (1 Bulb)\", 0.99),\n",
    "        (\"Ginger (0.5 lb)\", 2.49),\n",
    "        (\"Bok Choy (1 lb)\", 2.99),\n",
    "        (\"Brown Rice (1 lb)\", 1.99),\n",
    "        (\"Chili Paste (1 Jar)\", 2.99),\n",
    "        (\"Avocado (2)\", 2.58),\n",
    "        (\"Bananas (2 lbs)\", 1.18)\n",
    "    ],\n",
    "    \"Ralphs\": [\n",
    "        (\"Eggs (1 Dozen)\", 3.00),\n",
    "        (\"Paneer (Low-Fat) (1 lb)\", 7.00),\n",
    "        (\"Cauliflower (1 Head)\", 4.00),\n",
    "        (\"Green Chilies (0.25 lb)\", 1.50),\n",
    "        (\"Broccoli (1 Head)\", 3.50),\n",
    "        (\"Bell Peppers (2)\", 3.00),\n",
    "        (\"Carrots (1 lb)\", 1.50),\n",
    "        (\"Green Beans (1 lb)\", 3.50),\n",
    "        (\"Soy Sauce (Low Sodium) (1 Bottle)\", 4.00),\n",
    "        (\"Apples (2 lbs)\", 4.00),\n",
    "        (\"Cilantro\", 0.99),\n",
    "        (\"Yogurt (Large Tub)\", 5.00)\n",
    "    ],\n",
    "    \"Target\": [\n",
    "        (\"Whole Wheat Noodles (1 lb)\", 2.75),\n",
    "        (\"Lentils (Toor/Masoor) (1 lb)\", 3.25),\n",
    "        (\"Rice Vinegar (1 Bottle)\", 3.75),\n",
    "        (\"Sesame Oil (1 Bottle)\", 7.50),\n",
    "        (\"Almonds (1 lb)\", 7.99),\n",
    "        (\"Protein Powder\", 20.00)\n",
    "    ]\n",
    "}"
   ]
  },
  {
   "cell_type": "code",
   "execution_count": 10,
   "metadata": {},
   "outputs": [
    {
     "data": {
      "text/plain": [
       "[34.169999999999995, 40.99, 45.24]"
      ]
     },
     "execution_count": 10,
     "metadata": {},
     "output_type": "execute_result"
    }
   ],
   "source": [
    "[sum(price for item, price in shopping_dict[i]) for i in shopping_dict]"
   ]
  },
  {
   "cell_type": "code",
   "execution_count": 6,
   "metadata": {},
   "outputs": [
    {
     "name": "stdout",
     "output_type": "stream",
     "text": [
      "Trader Joe's cost: $34.169999999999995\n",
      "[['Chicken Breast (2 lbs)', 7.4], ['Tofu (1 lb)', 2.29], ['Spinach (1 lb)', 3.49], ['Tomatoes (2 lbs)', 3.79], ['Onions (2 lbs)', 1.99], ['Garlic (1 Bulb)', 0.99], ['Ginger (0.5 lb)', 2.49], ['Bok Choy (1 lb)', 2.99], ['Brown Rice (1 lb)', 1.99], ['Chili Paste (1 Jar)', 2.99], ['Avocado (2)', 2.58], ['Bananas (2 lbs)', 1.18]]\n",
      "Ralphs cost: $40.99\n",
      "[['Eggs (1 Dozen)', 3.0], ['Paneer (Low-Fat) (1 lb)', 7.0], ['Cauliflower (1 Head)', 4.0], ['Green Chilies (0.25 lb)', 1.5], ['Broccoli (1 Head)', 3.5], ['Bell Peppers (2)', 3.0], ['Carrots (1 lb)', 1.5], ['Green Beans (1 lb)', 3.5], ['Soy Sauce (Low Sodium) (1 Bottle)', 4.0], ['Apples (2 lbs)', 4.0], ['Cilantro', 0.99], ['Yogurt (Large Tub)', 5.0]]\n",
      "Target cost: $45.24\n",
      "[['Whole Wheat Noodles (1 lb)', 2.75], ['Lentils (Toor/Masoor) (1 lb)', 3.25], ['Rice Vinegar (1 Bottle)', 3.75], ['Sesame Oil (1 Bottle)', 7.5], ['Almonds (1 lb)', 7.99], ['Protein Powder', 20.0]]\n"
     ]
    }
   ],
   "source": [
    "for i in shopping_dict:\n",
    "    total = 0\n",
    "    items = []\n",
    "    for j in shopping_dict[i]:\n",
    "        items.append([j[0],j[1]])\n",
    "        total = total+j[1]\n",
    "    print(i+\" cost: $\"+ str(total))\n",
    "    print(items)"
   ]
  },
  {
   "cell_type": "code",
   "execution_count": null,
   "metadata": {},
   "outputs": [
    {
     "ename": "SyntaxError",
     "evalue": "invalid syntax (3832407145.py, line 1)",
     "output_type": "error",
     "traceback": [
      "\u001b[0;36m  Cell \u001b[0;32mIn[11], line 1\u001b[0;36m\u001b[0m\n\u001b[0;31m    ```json\u001b[0m\n\u001b[0m    ^\u001b[0m\n\u001b[0;31mSyntaxError\u001b[0m\u001b[0;31m:\u001b[0m invalid syntax\n"
     ]
    }
   ],
   "source": [
    "\n",
    "grocery_data = {\n",
    "    'Trader Joe\\'s': [\n",
    "        ('Brown Rice (2 lbs)', 6.00),\n",
    "        ('Whole Wheat Pasta (1 lb)', 1.75),\n",
    "        ('Lentils (Toor & Masoor Dal, 1 lb each)', 5.00),\n",
    "        ('Spinach (1 lb)', 3.00),\n",
    "        ('Cauliflower (1 head)', 3.00),\n",
    "        ('Tomatoes (3 lbs)', 13.50),\n",
    "        ('Onions (2 lbs)', 4.00),\n",
    "        ('Garlic (1 head)', 1.50),\n",
    "        ('Ginger (0.25 lb)', 2.00),\n",
    "        ('Green Chilies (0.25 lb)', 1.50),\n",
    "        ('Low-fat Yogurt (32 oz)', 3.00)\n",
    "    ],\n",
    "    'Target': [\n",
    "        ('Whole Wheat Flour (5 lbs)', 5.50),\n",
    "        ('Chicken Breast (4 lbs)', 14.00),\n",
    "        ('Eggs (24)', 7.00),\n",
    "        ('Broccoli (1 head)', 2.50),\n",
    "        ('Zucchini (1 lb)', 2.50),\n",
    "        ('Bell Peppers (2)', 3.50),\n",
    "        ('Cumin (2 oz)', 3.50),\n",
    "        ('Coriander Powder (2 oz)', 2.75),\n",
    "        ('Turmeric (2 oz)', 3.50),\n",
    "        ('Chili Powder (2 oz)', 2.75)\n",
    "    ],\n",
    "    'Ralphs': [\n",
    "        ('Paneer (low-fat, 1 lb)', 9.00),\n",
    "        ('Parmesan Cheese (4 oz)', 5.00),\n",
    "        ('Ricotta Cheese (15 oz)', 6.00),\n",
    "        ('Tomato Paste (6 oz)', 2.00),\n",
    "        ('Garam Masala (2 oz)', 5.00),\n",
    "        ('Mustard Seeds (2 oz)', 2.00),\n",
    "        ('Curry Leaves (1 bunch)', 2.50)\n",
    "    ]\n",
    "}\n"
   ]
  },
  {
   "cell_type": "code",
   "execution_count": 2,
   "metadata": {},
   "outputs": [
    {
     "name": "stderr",
     "output_type": "stream",
     "text": [
      "/Users/aryanparab/Desktop/Practice/node-course/Untitled Folder/Agentic/venv1/lib/python3.9/site-packages/tqdm/auto.py:21: TqdmWarning: IProgress not found. Please update jupyter and ipywidgets. See https://ipywidgets.readthedocs.io/en/stable/user_install.html\n",
      "  from .autonotebook import tqdm as notebook_tqdm\n"
     ]
    }
   ],
   "source": [
    "from phi.agent import Agent\n",
    "from phi.model.groq import Groq\n",
    "from phi.model.google import Gemini\n",
    "from phi.tools.exa import ExaTools\n",
    "def getter(prompt):\n",
    "    with open(\"small_database.txt\",\"r\") as file:\n",
    "        small_db = file.read()\n",
    "\n",
    "    md = Gemini(id=\"gemini-2.0-flash\")\n",
    "    # md = Groq(id=\"deepseek-r1-distill-llama-70b\")\n",
    "    grocery_list_agent =Agent(\n",
    "        description=\"You are a professional shopper and chef. You will help user with creating a grocery list to buy items from specified stores and fit within the given budget.\",\n",
    "        model = md,\n",
    "        name = \"Shopper\",\n",
    "        instructions=[\n",
    "        \"You will create a grocery list from specified ingredients and their quantities and a prompt as an input.\",  \n",
    "    \"Retrieve ingredient information and prices from Ralphs, Target, and Trader Joe’s.\",  \n",
    "    \"Provide prices for each ingredient from all three stores.\",  \n",
    "    \"\"\"Present the results in a clear, tabulated format with columns for:  \n",
    "        - Ingredient,  \n",
    "        - Quantity,  \n",
    "        - Price at Ralphs,  \n",
    "        - Price at Target,  \n",
    "        - Price at Trader Joe’s,  \n",
    "        - Total Cost (Including Quantity).\"\"\",  \n",
    "    \"You are allowed to add or remove ingredients from the given list if necessary for availability or cost-effectiveness.\",  \n",
    "    \"Provide a total estimated cost for all ingredients, considering the specified quantities.\",  \n",
    "    \"Ensure the output remains concise and clear, with a maximum length of 6000 words.\",  \n",
    "    \"Ensure the final output includes the store-specific prices and the total cost reflecting the required quantities.\",  \n",
    "    \"The output should be in a clean list format for easy reference.\",  \n",
    "    \"Use the following information for price reference ( this is real time data)\",\n",
    "    small_db,\"If you can't find the required prices here, use the exa toll provided.\"\n",
    "\n",
    "        ]\n",
    "        \n",
    "    )\n",
    "\n",
    "    # prompt= f\"\"\"\n",
    "    # I need a grocery list for 4 weeks, including vegetables, chicken and eggs. \n",
    "    # I want to have lunch, dinner and breakfast every day, with each meal serving 1 people. \n",
    "    # I have nothing in my pantry. \n",
    "    # I prefer {cuisine_ingredients['Indian']}, {cuisine_ingredients['Italian']} recipes but am open to others if necessary. \n",
    "    # Provide the quantity required for each ingredient as well.\n",
    "    # Adjust the ingredient quantities based on my preferences and should last for the provided duration.\n",
    "    # I want a balanced meal plan and donot mind some leftovers.\n",
    "    # create me a grocery list to buy from ralphs, target and trader joes. \n",
    "    # The list should have the prices mentioned for the store and approximate budget of $120.\n",
    "    # Make sure the total cost is as close to the budget. \n",
    "    # only output the ingredients and their quantity required\n",
    "    # \"\"\"\n",
    "\n",
    "    # cost_estimator = Agent(\n",
    "    #     description=\"You are a grocery list cost estimator\",\n",
    "    #     model = md,\n",
    "    #     name = \"Cost estimator\",\n",
    "    #     instructions=[\n",
    "    #             \"You will receive a grocery shopping list as input.\",  \n",
    "    # \"Create a to-do list along with the prices for the items.\",  \n",
    "    # \"For each ingredient, provide the prices from Ralphs, Target, and Trader Joe’s.\",  \n",
    "    # \"Add the total price at the end, reflecting the best choices for each store.\",  \n",
    "    # \"Ensure you select the best price for each ingredient across all three stores.\",  \n",
    "    # \"Distribute the items among different stores instead of purchasing everything from one store.\",  \n",
    "    # \"Make sure the total cost is within $15 of the $120 budget (between $105 and $135).\",  \n",
    "    # \"Adjust the list by adding or removing items to meet the budget as accurately as possible.\",  \n",
    "    # \"Present the results in a clear and organized format, divided by stores indicating where each item should be bought.\",  \n",
    "    #     ]\n",
    "    #     , \n",
    "    #     tools=[ExaTools(api_key= \"de8ed4f8-7cd1-4be0-8e2b-7d9beeb7f21b\")]\n",
    "    #     )\n",
    "    \n",
    "\n",
    "    to_creator = Agent(\n",
    "        description=\"You are a to do list generatot\",\n",
    "        model = md,\n",
    "        name = \"List generator\",\n",
    "        instructions=[\n",
    "        \"You will receive a grocery list with specified ingredients and their quantities as input.\",  \n",
    "\"Generate a grocery list for each store (Trader Joe's, Target, and Ralphs).\",  \n",
    "\"Organize the output into a dictionary format with the store names as keys and the items as lists of tuples.\",  \n",
    "\"If duration is more than 2 weeks, divide the grocery list such that the ingredients are bought on a 2 week basis to ensure freshness else do not divide. The output in case of less than 2 weeks should have First week mentioned in the final dict\",\n",
    "\"Each tuple should contain the item name (as a string) and the price (as a float, reflecting the cost per specified quantity).\",  \n",
    "\"Present the output in the following format always!:\",  \n",
    "\"grocery_data = {\",\n",
    "    \"First week:\",\n",
    "\"    'Trader Joe\\'s': [\",  \n",
    "\"        ('Chicken Breast (3 lbs)', 21.00,Week1) , \",  \n",
    "\"        ('Eggs (24)', 5.00),\",  \n",
    "\"        ('Lentils (Toor/Masoor) (2 lbs)', 6.00),\",  \n",
    "\"        # More items\",  \n",
    "\"    ],\",  \n",
    "\"    'Target': [\",  \n",
    "\"        ('Paneer (Low-Fat) (1 lb)', 7.00),\",  \n",
    "\"        ('Bell Peppers (3)', 4.50),\",  \n",
    "\"        # More items\",  \n",
    "\"    ],\",  \n",
    "\"    'Ralphs': [\",  \n",
    "\"        ('Avocado (2)', 4.00),\",  \n",
    "\"        # More items\",  \n",
    "\"    ]\",  \n",
    "\"}\",  \n",
    "\"For each ingredient, find the best price from the available stores and choose it.\",  \n",
    "\"Distribute items across the stores, ensuring that not all items are bought from a single store.\",  \n",
    "\"Ensure the list is balanced and doesn’t exceed the expected budget for each store. Make this top priority It is okay to be + or - $15 of the total value\",  \n",
    "\"Maintain the specified quantities and ingredients consistently across all stores.\",  \n",
    "\"Output the list in the exact format shown above with each item and its cost correctly aligned.\",\n",
    "\n",
    "\n",
    "        ]\n",
    "    )\n",
    "\n",
    "    response = grocery_list_agent.run(prompt, stream=False)\n",
    "        \n",
    "        # prompt = response.content + \" Use the following list to estimate the cost of items from provided stores\"\n",
    "        # response = cost_estimator.run(prompt,stream=False)\n",
    "        \n",
    "    prompt = response.content + \" Create a to-do list for the list of grocery items to buy.\"\n",
    "    response2 = to_creator.run(prompt,stream=False)\n",
    "     \n",
    "\n",
    "    return str(response2.content)\n"
   ]
  },
  {
   "cell_type": "code",
   "execution_count": 3,
   "metadata": {},
   "outputs": [],
   "source": [
    "p1 =\"\"\"I need a grocery list for 4 weeks, including ['Eggs', 'Vegetables']. \n",
    "    I want to have ['Lunch'] every day, with each meal serving 1 people. \n",
    "    I have  in my pantry. \n",
    "    I prefer the following cusines: Rice Whole Wheat Flour (for Roti) Lentils (Toor Dal, Masoor Dal) Chicken Breast Eggs Paneer (low-fat) Spinach Cauliflower Tomatoes Onions Garlic Ginger Green Chilies Cumin Coriander Powder Turmeric Garam Masala Chili Powder Mustard Seeds Curry Leaves Olive Oil Low-fat Yogurt (optional)Chicken Breast Ground Turkey (lean) Eggs Brown Rice Whole Wheat Pasta Sweet Potatoes Spinach Kale Bell Peppers Carrots Broccoli Olive Oil Garlic Onions Black Pepper Paprika Oregano Basil Greek Yogurt (low-fat) Quinoa Almonds AvocadoBrown Rice Whole Wheat Tortillas Chicken Breast Eggs Black Beans Pinto Beans Tomatoes Corn Avocado Bell Peppers Onions Garlic Cilantro Lime Cumin Chili Powder Oregano Jalapeños Olive Oil Low-fat Greek Yogurt (as sour cream alternative).\n",
    "    Provide a grocery list in the budget of $120\n",
    "    Adjust the ingredient quantities based on my preferences and should last for the provided duration.\n",
    "    I want a balanced meal plan and donot mind some leftovers.\"\"\""
   ]
  },
  {
   "cell_type": "code",
   "execution_count": 4,
   "metadata": {},
   "outputs": [],
   "source": [
    "import ast\n",
    "while True:\n",
    "\n",
    "    try:\n",
    "        st = getter(p1)\n",
    "        d = ast.literal_eval(st.split('=')[1].strip().split(\"print\")[0].strip().split(\"`\")[0].strip())\n",
    "        if d: \n",
    "            break\n",
    "    except:\n",
    "        pass"
   ]
  },
  {
   "cell_type": "code",
   "execution_count": 10,
   "metadata": {},
   "outputs": [
    {
     "name": "stdout",
     "output_type": "stream",
     "text": [
      "['First week', 'Second week', 'Third week', 'Fourth week']\n"
     ]
    }
   ],
   "source": [
    "weeks = list(d.keys())\n",
    "print(weeks)"
   ]
  },
  {
   "cell_type": "code",
   "execution_count": 27,
   "metadata": {},
   "outputs": [
    {
     "name": "stdout",
     "output_type": "stream",
     "text": [
      "First week\n",
      "\n",
      " Trader Joe's  :  9.75 \n",
      "\n",
      "Basmati Rice (1 lb)  :  2.25\n",
      "Eggs (9)  :  2.62\n",
      "Turmeric Powder (1 oz)  :  0.88\n",
      "Olive Oil (13 fl oz)  :  2.5\n",
      "Spinach (0.5 - 10oz bag)  :  1.5\n",
      "\n",
      " Target  :  6.43 \n",
      "\n",
      "Whole Wheat Flour (1.25 lb)  :  0.87\n",
      "Black Beans (0.5 lb)  :  1.25\n",
      "Pinto Beans (0.5 lb)  :  0.75\n",
      "Cumin Seeds (0.24 oz)  :  1.13\n",
      "Coriander Powder (1.75 oz)  :  0.63\n",
      "Garam Masala (0.25 ct)  :  0.8\n",
      "Avocado (1)  :  1.0\n",
      "\n",
      " Ralphs  :  19.810000000000002 \n",
      "\n",
      "Toor Dal (0.5 lb)  :  1.87\n",
      "Masoor Dal (0.25 lb)  :  1.07\n",
      "Chicken Breast (1 lb)  :  3.75\n",
      "Tomatoes (1 lb)  :  2.0\n",
      "Onions (0.75 lb)  :  1.5\n",
      "Garlic (0.5 head)  :  0.75\n",
      "Ginger (0.25 lb)  :  1.0\n",
      "Green Chilies (1 oz)  :  0.75\n",
      "Chili Powder (1.75 oz)  :  0.75\n",
      "Mustard Seeds (1.75 oz)  :  0.75\n",
      "Curry Leaves (0.32 oz)  :  1.87\n",
      "Low-fat Yogurt (8 oz)  :  1.0\n",
      "Carrots (0.5 lb)  :  1.0\n",
      "Cauliflower (0.25 head)  :  1.25\n",
      "Lime(1)  :  0.5\n",
      "\n",
      "\n",
      "35.99\n",
      "Second week\n",
      "\n",
      " Trader Joe's  :  7.25 \n",
      "\n",
      "Basmati Rice (1 lb)  :  2.25\n",
      "Eggs (9)  :  2.62\n",
      "Turmeric Powder (1 oz)  :  0.88\n",
      "Spinach (0.5 - 10oz bag)  :  1.5\n",
      "\n",
      " Target  :  6.43 \n",
      "\n",
      "Whole Wheat Flour (1.25 lb)  :  0.87\n",
      "Black Beans (0.5 lb)  :  1.25\n",
      "Pinto Beans (0.5 lb)  :  0.75\n",
      "Cumin Seeds (0.24 oz)  :  1.13\n",
      "Coriander Powder (1.75 oz)  :  0.63\n",
      "Garam Masala (0.25 ct)  :  0.8\n",
      "Avocado (1)  :  1.0\n",
      "\n",
      " Ralphs  :  19.810000000000002 \n",
      "\n",
      "Toor Dal (0.5 lb)  :  1.87\n",
      "Masoor Dal (0.25 lb)  :  1.07\n",
      "Chicken Breast (1 lb)  :  3.75\n",
      "Tomatoes (1 lb)  :  2.0\n",
      "Onions (0.75 lb)  :  1.5\n",
      "Garlic (0.5 head)  :  0.75\n",
      "Ginger (0.25 lb)  :  1.0\n",
      "Green Chilies (1 oz)  :  0.75\n",
      "Chili Powder (1.75 oz)  :  0.75\n",
      "Mustard Seeds (1.75 oz)  :  0.75\n",
      "Curry Leaves (0.32 oz)  :  1.87\n",
      "Low-fat Yogurt (8 oz)  :  1.0\n",
      "Carrots (0.5 lb)  :  1.0\n",
      "Cauliflower (0.25 head)  :  1.25\n",
      "Lime(1)  :  0.5\n",
      "\n",
      "\n",
      "69.48\n",
      "Third week\n",
      "\n",
      " Trader Joe's  :  7.25 \n",
      "\n",
      "Basmati Rice (1 lb)  :  2.25\n",
      "Eggs (9)  :  2.62\n",
      "Turmeric Powder (1 oz)  :  0.88\n",
      "Spinach (0.5 - 10oz bag)  :  1.5\n",
      "\n",
      " Target  :  7.43 \n",
      "\n",
      "Whole Wheat Flour (1.25 lb)  :  0.87\n",
      "Black Beans (0.5 lb)  :  1.25\n",
      "Pinto Beans (0.5 lb)  :  0.75\n",
      "Cumin Seeds (0.24 oz)  :  1.13\n",
      "Coriander Powder (1.75 oz)  :  0.63\n",
      "Garam Masala (0.25 ct)  :  0.8\n",
      "Avocado (2)  :  2.0\n",
      "\n",
      " Ralphs  :  19.810000000000002 \n",
      "\n",
      "Toor Dal (0.5 lb)  :  1.87\n",
      "Masoor Dal (0.25 lb)  :  1.07\n",
      "Chicken Breast (1 lb)  :  3.75\n",
      "Tomatoes (1 lb)  :  2.0\n",
      "Onions (0.75 lb)  :  1.5\n",
      "Garlic (0.5 head)  :  0.75\n",
      "Ginger (0.25 lb)  :  1.0\n",
      "Green Chilies (1 oz)  :  0.75\n",
      "Chili Powder (1.75 oz)  :  0.75\n",
      "Mustard Seeds (1.75 oz)  :  0.75\n",
      "Curry Leaves (0.32 oz)  :  1.87\n",
      "Low-fat Yogurt (8 oz)  :  1.0\n",
      "Carrots (0.5 lb)  :  1.0\n",
      "Cauliflower (0.25 head)  :  1.25\n",
      "Lime(1)  :  0.5\n",
      "\n",
      "\n",
      "103.97\n",
      "Fourth week\n",
      "\n",
      " Trader Joe's  :  7.25 \n",
      "\n",
      "Basmati Rice (1 lb)  :  2.25\n",
      "Eggs (9)  :  2.62\n",
      "Turmeric Powder (1 oz)  :  0.88\n",
      "Spinach (0.5 - 10oz bag)  :  1.5\n",
      "\n",
      " Target  :  7.43 \n",
      "\n",
      "Whole Wheat Flour (1.25 lb)  :  0.87\n",
      "Black Beans (0.5 lb)  :  1.25\n",
      "Pinto Beans (0.5 lb)  :  0.75\n",
      "Cumin Seeds (0.24 oz)  :  1.13\n",
      "Coriander Powder (1.75 oz)  :  0.63\n",
      "Garam Masala (0.25 ct)  :  0.8\n",
      "Avocado (2)  :  2.0\n",
      "\n",
      " Ralphs  :  19.810000000000002 \n",
      "\n",
      "Toor Dal (0.5 lb)  :  1.87\n",
      "Masoor Dal (0.25 lb)  :  1.07\n",
      "Chicken Breast (1 lb)  :  3.75\n",
      "Tomatoes (1 lb)  :  2.0\n",
      "Onions (0.75 lb)  :  1.5\n",
      "Garlic (0.5 head)  :  0.75\n",
      "Ginger (0.25 lb)  :  1.0\n",
      "Green Chilies (1 oz)  :  0.75\n",
      "Chili Powder (1.75 oz)  :  0.75\n",
      "Mustard Seeds (1.75 oz)  :  0.75\n",
      "Curry Leaves (0.32 oz)  :  1.87\n",
      "Low-fat Yogurt (8 oz)  :  1.0\n",
      "Carrots (0.5 lb)  :  1.0\n",
      "Cauliflower (0.25 head)  :  1.25\n",
      "Lime(1)  :  0.5\n",
      "\n",
      "\n",
      "138.46\n"
     ]
    }
   ],
   "source": [
    "week_totals = []\n",
    "target_list = []\n",
    "ralph_list =[]\n",
    "tj_list = []\n",
    "for value in weeks:\n",
    "    stores = d[value]\n",
    "    week_tots = 0\n",
    "    print(value)\n",
    "    for store in stores:\n",
    "        tots = sum([i[1] for i in stores[store]])\n",
    "        print(\"\\n\",store,\" : \", tots,\"\\n\")\n",
    "        for product in stores[store]:\n",
    "            print(product[0],\" : \", product[1])\n",
    "        if store == \"Target\":\n",
    "            target_list.append(tots)\n",
    "        if store == \"Ralphs\":\n",
    "            ralph_list.append(tots)\n",
    "        if store == \"Trader Joe's\":\n",
    "            tj_list.append(tots)\n",
    "        week_tots = week_tots + tots\n",
    "    print(\"\\n\")\n",
    "    week_totals.append(week_tots)\n",
    "\n",
    "    print(sum(week_totals))"
   ]
  },
  {
   "cell_type": "code",
   "execution_count": null,
   "metadata": {},
   "outputs": [
    {
     "data": {
      "text/plain": [
       "[9.75, 7.25, 7.25, 7.25]"
      ]
     },
     "execution_count": 23,
     "metadata": {},
     "output_type": "execute_result"
    }
   ],
   "source": []
  },
  {
   "cell_type": "code",
   "execution_count": 70,
   "metadata": {},
   "outputs": [],
   "source": [
    "totals = {}\n",
    "for i, data in d.items():\n",
    "    weekly = {}\n",
    "    for store, products in data.items():\n",
    "        s = [i[1] for i in products]\n",
    "        weekly[store] = sum(s)\n",
    "    totals[i] = weekly"
   ]
  },
  {
   "cell_type": "code",
   "execution_count": 72,
   "metadata": {},
   "outputs": [],
   "source": [
    "final_sum = [list(i.items()) for i in totals.values()]"
   ]
  },
  {
   "cell_type": "code",
   "execution_count": 2,
   "metadata": {},
   "outputs": [
    {
     "data": {
      "text/plain": [
       "[{'_id': '67df953799f09a49c9678dee',\n",
       "  'email': 'parab.aryan@gmail.com',\n",
       "  'time': 'Sat Mar 22 21:59:34 2025',\n",
       "  'grocery_list': {'First week': {\"Trader Joe's\": [['Eggs (36 ct)', 10.47],\n",
       "     ['Garlic (3 bulbs)', 3.98],\n",
       "     ['Olive Oil (50 fl oz)', 10.99],\n",
       "     ['Brown Rice (4 lb)', 8.98]],\n",
       "    'Target': [['Black Beans (2 lb)', 5.16], ['Brown Rice (4 lb)', 7.98]],\n",
       "    'Ralphs': [['Pinto Beans (2 lb)', 5.47],\n",
       "     ['Avocado (6 ct)', 6.0],\n",
       "     ['Corn (6 ears)', 5.94]]},\n",
       "   'Second week': {\"Trader Joe's\": [], 'Target': [], 'Ralphs': []},\n",
       "   'Third week': {\"Trader Joe's\": [], 'Target': [], 'Ralphs': []}}},\n",
       " {'_id': '67df95e899f09a49c9678df0',\n",
       "  'email': 'parab.aryan@gmail.com',\n",
       "  'time': 'Sat Mar 22 22:02:32 2025',\n",
       "  'grocery_list': {'First week': {\"Trader Joe's\": [['Eggs (12)', 3.49],\n",
       "     ['Olive Oil (50 fl oz)', 10.99],\n",
       "     ['Garlic (1 head)', 0.99],\n",
       "     ['Basil (1 bunch)', 2.99]],\n",
       "    'Target': [['Brown Rice (2 lb)', 3.99],\n",
       "     ['Coconut Milk (1 can - 13.5oz)', 2.1],\n",
       "     ['Bell Peppers (2)', 3.0],\n",
       "     ['Soy Sauce (10 fl oz)', 3.5]],\n",
       "    'Ralphs': [['Ginger (0.5 lb)', 0.75],\n",
       "     ['Limes (2)', 1.0],\n",
       "     ['Lemongrass (1.765oz)', 2.0],\n",
       "     ['Cilantro (0.5 bunch)', 1.0],\n",
       "     ['Spinach (0.5 lb)', 2.5]]},\n",
       "   'Second week': {\"Trader Joe's\": [['Whole Wheat Pasta (1 lb)', 1.5],\n",
       "     ['Rice Noodles (0.5 lb)', 2.0],\n",
       "     ['Tofu (0.5 lb)', 2.5],\n",
       "     ['Peanuts (12oz)', 3.5]],\n",
       "    'Target': [['Tomatoes (1.5 lb)', 3.0],\n",
       "     ['Zucchini (1 lb)', 1.5],\n",
       "     ['Parmesan Cheese (2 oz)', 4.0]],\n",
       "    'Ralphs': [['Onions (1.5 lb)', 1.5],\n",
       "     ['Carrots (1 lb)', 1.0],\n",
       "     ['Green Onions (0.5 bunch)', 1.0],\n",
       "     ['Broccoli (1 head)', 1.5]]},\n",
       "   'Third week': {\"Trader Joe's\": [['Eggs (12)', 3.49],\n",
       "     ['Garlic (1 head)', 0.99],\n",
       "     ['Basil (1 bunch)', 2.99]],\n",
       "    'Target': [['Brown Rice (1 lb)', 2.0],\n",
       "     ['Coconut Milk (1 can - 13.5oz)', 2.1],\n",
       "     ['Bell Peppers (1)', 1.5]],\n",
       "    'Ralphs': [['Ginger (0.5 lb)', 0.75],\n",
       "     ['Limes (2)', 1.0],\n",
       "     ['Lemongrass (1.765oz)', 2.0],\n",
       "     ['Cilantro (0.5 bunch)', 1.0],\n",
       "     ['Spinach (0.5 lb)', 2.5]]},\n",
       "   'Fourth week': {\"Trader Joe's\": [['Whole Wheat Pasta (1 lb)', 1.5],\n",
       "     ['Rice Noodles (0.5 lb)', 2.0],\n",
       "     ['Tofu (0.5 lb)', 2.5],\n",
       "     ['Peanuts (12oz)', 3.5]],\n",
       "    'Target': [['Tomatoes (1.5 lb)', 3.0],\n",
       "     ['Zucchini (1 lb)', 1.5],\n",
       "     ['Parmesan Cheese (2 oz)', 4.0]],\n",
       "    'Ralphs': [['Onions (1.5 lb)', 1.5],\n",
       "     ['Carrots (1 lb)', 1.0],\n",
       "     ['Green Onions (0.5 bunch)', 1.0],\n",
       "     ['Broccoli (1 head)', 1.5]]}}},\n",
       " {'_id': '67df96bc99f09a49c9678df2',\n",
       "  'email': 'parab.aryan@gmail.com',\n",
       "  'time': 'Sat Mar 22 22:06:04 2025',\n",
       "  'grocery_list': {'First week': {\"Trader Joe's\": [['Eggs (12 ct)', 3.49],\n",
       "     ['Garlic (4 bulbs)', 1.99],\n",
       "     ['Fish Sauce (1 bottle)', 4.99],\n",
       "     ['Frozen Fish (1 lb)', 20.0],\n",
       "     ['Brown Rice (2 lb)', 4.49]],\n",
       "    'Target': [['Coconut Milk (Light) (1 can)', 1.7]],\n",
       "    'Ralphs': [['Ginger (0.25 lb)', 0.75]]},\n",
       "   'Second week': {\"Trader Joe's\": [['Eggs (12 ct)', 3.49],\n",
       "     ['Brown Rice (2 lb)', 4.49],\n",
       "     ['Frozen Fish (1 lb)', 20.0]],\n",
       "    'Target': [['Coconut Milk (Light) (1 can)', 1.7]],\n",
       "    'Ralphs': [['Ginger (0.25 lb)', 0.75]]}},\n",
       "  'prompt': {'duration': 4,\n",
       "   'budget': '140',\n",
       "   'cuisines': ['Italian', 'Thai'],\n",
       "   'diet': ['Vegetables', 'Fish', 'Chicken'],\n",
       "   'servings': 1,\n",
       "   'meals': ['Lunch', 'Breakfast', 'Dinner'],\n",
       "   'comments': '',\n",
       "   'already_have': ''}}]"
      ]
     },
     "execution_count": 2,
     "metadata": {},
     "output_type": "execute_result"
    }
   ],
   "source": [
    "d =[{'_id': ('67df953799f09a49c9678dee'), 'email': 'parab.aryan@gmail.com', 'time': 'Sat Mar 22 21:59:34 2025', 'grocery_list': {'First week': {\"Trader Joe's\": [['Eggs (36 ct)', 10.47], ['Garlic (3 bulbs)', 3.98], ['Olive Oil (50 fl oz)', 10.99], ['Brown Rice (4 lb)', 8.98]], 'Target': [['Black Beans (2 lb)', 5.16], ['Brown Rice (4 lb)', 7.98]], 'Ralphs': [['Pinto Beans (2 lb)', 5.47], ['Avocado (6 ct)', 6.0], ['Corn (6 ears)', 5.94]]}, 'Second week': {\"Trader Joe's\": [], 'Target': [], 'Ralphs': []}, 'Third week': {\"Trader Joe's\": [], 'Target': [], 'Ralphs': []}}}, {'_id': ('67df95e899f09a49c9678df0'), 'email': 'parab.aryan@gmail.com', 'time': 'Sat Mar 22 22:02:32 2025', 'grocery_list': {'First week': {\"Trader Joe's\": [['Eggs (12)', 3.49], ['Olive Oil (50 fl oz)', 10.99], ['Garlic (1 head)', 0.99], ['Basil (1 bunch)', 2.99]], 'Target': [['Brown Rice (2 lb)', 3.99], ['Coconut Milk (1 can - 13.5oz)', 2.1], ['Bell Peppers (2)', 3.0], ['Soy Sauce (10 fl oz)', 3.5]], 'Ralphs': [['Ginger (0.5 lb)', 0.75], ['Limes (2)', 1.0], ['Lemongrass (1.765oz)', 2.0], ['Cilantro (0.5 bunch)', 1.0], ['Spinach (0.5 lb)', 2.5]]}, 'Second week': {\"Trader Joe's\": [['Whole Wheat Pasta (1 lb)', 1.5], ['Rice Noodles (0.5 lb)', 2.0], ['Tofu (0.5 lb)', 2.5], ['Peanuts (12oz)', 3.5]], 'Target': [['Tomatoes (1.5 lb)', 3.0], ['Zucchini (1 lb)', 1.5], ['Parmesan Cheese (2 oz)', 4.0]], 'Ralphs': [['Onions (1.5 lb)', 1.5], ['Carrots (1 lb)', 1.0], ['Green Onions (0.5 bunch)', 1.0], ['Broccoli (1 head)', 1.5]]}, 'Third week': {\"Trader Joe's\": [['Eggs (12)', 3.49], ['Garlic (1 head)', 0.99], ['Basil (1 bunch)', 2.99]], 'Target': [['Brown Rice (1 lb)', 2.0], ['Coconut Milk (1 can - 13.5oz)', 2.1], ['Bell Peppers (1)', 1.5]], 'Ralphs': [['Ginger (0.5 lb)', 0.75], ['Limes (2)', 1.0], ['Lemongrass (1.765oz)', 2.0], ['Cilantro (0.5 bunch)', 1.0], ['Spinach (0.5 lb)', 2.5]]}, 'Fourth week': {\"Trader Joe's\": [['Whole Wheat Pasta (1 lb)', 1.5], ['Rice Noodles (0.5 lb)', 2.0], ['Tofu (0.5 lb)', 2.5], ['Peanuts (12oz)', 3.5]], 'Target': [['Tomatoes (1.5 lb)', 3.0], ['Zucchini (1 lb)', 1.5], ['Parmesan Cheese (2 oz)', 4.0]], 'Ralphs': [['Onions (1.5 lb)', 1.5], ['Carrots (1 lb)', 1.0], ['Green Onions (0.5 bunch)', 1.0], ['Broccoli (1 head)', 1.5]]}}}, {'_id': ('67df96bc99f09a49c9678df2'), 'email': 'parab.aryan@gmail.com', 'time': 'Sat Mar 22 22:06:04 2025', 'grocery_list': {'First week': {\"Trader Joe's\": [['Eggs (12 ct)', 3.49], ['Garlic (4 bulbs)', 1.99], ['Fish Sauce (1 bottle)', 4.99], ['Frozen Fish (1 lb)', 20.0], ['Brown Rice (2 lb)', 4.49]], 'Target': [['Coconut Milk (Light) (1 can)', 1.7]], 'Ralphs': [['Ginger (0.25 lb)', 0.75]]}, 'Second week': {\"Trader Joe's\": [['Eggs (12 ct)', 3.49], ['Brown Rice (2 lb)', 4.49], ['Frozen Fish (1 lb)', 20.0]], 'Target': [['Coconut Milk (Light) (1 can)', 1.7]], 'Ralphs': [['Ginger (0.25 lb)', 0.75]]}}, 'prompt': {'duration': 4, 'budget': '140', 'cuisines': ['Italian', 'Thai'], 'diet': ['Vegetables', 'Fish', 'Chicken'], 'servings': 1, 'meals': ['Lunch', 'Breakfast', 'Dinner'], 'comments': '', 'already_have': ''}}]\n",
    "[{'_id': ('67df953799f09a49c9678dee'), 'email': 'parab.aryan@gmail.com', 'time': 'Sat Mar 22 21:59:34 2025', 'grocery_list': {'First week': {\"Trader Joe's\": [['Eggs (36 ct)', 10.47], ['Garlic (3 bulbs)', 3.98], ['Olive Oil (50 fl oz)', 10.99], ['Brown Rice (4 lb)', 8.98]], 'Target': [['Black Beans (2 lb)', 5.16], ['Brown Rice (4 lb)', 7.98]], 'Ralphs': [['Pinto Beans (2 lb)', 5.47], ['Avocado (6 ct)', 6.0], ['Corn (6 ears)', 5.94]]}, 'Second week': {\"Trader Joe's\": [], 'Target': [], 'Ralphs': []}, 'Third week': {\"Trader Joe's\": [], 'Target': [], 'Ralphs': []}}}, {'_id': ('67df95e899f09a49c9678df0'), 'email': 'parab.aryan@gmail.com', 'time': 'Sat Mar 22 22:02:32 2025', 'grocery_list': {'First week': {\"Trader Joe's\": [['Eggs (12)', 3.49], ['Olive Oil (50 fl oz)', 10.99], ['Garlic (1 head)', 0.99], ['Basil (1 bunch)', 2.99]], 'Target': [['Brown Rice (2 lb)', 3.99], ['Coconut Milk (1 can - 13.5oz)', 2.1], ['Bell Peppers (2)', 3.0], ['Soy Sauce (10 fl oz)', 3.5]], 'Ralphs': [['Ginger (0.5 lb)', 0.75], ['Limes (2)', 1.0], ['Lemongrass (1.765oz)', 2.0], ['Cilantro (0.5 bunch)', 1.0], ['Spinach (0.5 lb)', 2.5]]}, 'Second week': {\"Trader Joe's\": [['Whole Wheat Pasta (1 lb)', 1.5], ['Rice Noodles (0.5 lb)', 2.0], ['Tofu (0.5 lb)', 2.5], ['Peanuts (12oz)', 3.5]], 'Target': [['Tomatoes (1.5 lb)', 3.0], ['Zucchini (1 lb)', 1.5], ['Parmesan Cheese (2 oz)', 4.0]], 'Ralphs': [['Onions (1.5 lb)', 1.5], ['Carrots (1 lb)', 1.0], ['Green Onions (0.5 bunch)', 1.0], ['Broccoli (1 head)', 1.5]]}, 'Third week': {\"Trader Joe's\": [['Eggs (12)', 3.49], ['Garlic (1 head)', 0.99], ['Basil (1 bunch)', 2.99]], 'Target': [['Brown Rice (1 lb)', 2.0], ['Coconut Milk (1 can - 13.5oz)', 2.1], ['Bell Peppers (1)', 1.5]], 'Ralphs': [['Ginger (0.5 lb)', 0.75], ['Limes (2)', 1.0], ['Lemongrass (1.765oz)', 2.0], ['Cilantro (0.5 bunch)', 1.0], ['Spinach (0.5 lb)', 2.5]]}, 'Fourth week': {\"Trader Joe's\": [['Whole Wheat Pasta (1 lb)', 1.5], ['Rice Noodles (0.5 lb)', 2.0], ['Tofu (0.5 lb)', 2.5], ['Peanuts (12oz)', 3.5]], 'Target': [['Tomatoes (1.5 lb)', 3.0], ['Zucchini (1 lb)', 1.5], ['Parmesan Cheese (2 oz)', 4.0]], 'Ralphs': [['Onions (1.5 lb)', 1.5], ['Carrots (1 lb)', 1.0], ['Green Onions (0.5 bunch)', 1.0], ['Broccoli (1 head)', 1.5]]}}}, {'_id': ('67df96bc99f09a49c9678df2'), 'email': 'parab.aryan@gmail.com', 'time': 'Sat Mar 22 22:06:04 2025', 'grocery_list': {'First week': {\"Trader Joe's\": [['Eggs (12 ct)', 3.49], ['Garlic (4 bulbs)', 1.99], ['Fish Sauce (1 bottle)', 4.99], ['Frozen Fish (1 lb)', 20.0], ['Brown Rice (2 lb)', 4.49]], 'Target': [['Coconut Milk (Light) (1 can)', 1.7]], 'Ralphs': [['Ginger (0.25 lb)', 0.75]]}, 'Second week': {\"Trader Joe's\": [['Eggs (12 ct)', 3.49], ['Brown Rice (2 lb)', 4.49], ['Frozen Fish (1 lb)', 20.0]], 'Target': [['Coconut Milk (Light) (1 can)', 1.7]], 'Ralphs': [['Ginger (0.25 lb)', 0.75]]}}, 'prompt': {'duration': 4, 'budget': '140', 'cuisines': ['Italian', 'Thai'], 'diet': ['Vegetables', 'Fish', 'Chicken'], 'servings': 1, 'meals': ['Lunch', 'Breakfast', 'Dinner'], 'comments': '', 'already_have': ''}}]\n"
   ]
  },
  {
   "cell_type": "code",
   "execution_count": 6,
   "metadata": {},
   "outputs": [],
   "source": [
    "from datetime import datetime\n",
    "def convert(date_time):\n",
    "    format = '%a %b %d %H:%M:%S %Y'\n",
    "    datetime_str = datetime.strptime(date_time, format)\n",
    "    return datetime_str"
   ]
  },
  {
   "cell_type": "code",
   "execution_count": 17,
   "metadata": {},
   "outputs": [],
   "source": [
    "dts =  sorted([[i,convert(i['time'])] for i in d],key=lambda x: x[1],reverse=True)\n"
   ]
  },
  {
   "cell_type": "code",
   "execution_count": null,
   "metadata": {},
   "outputs": [],
   "source": [
    "to_show = dts[0]"
   ]
  },
  {
   "cell_type": "code",
   "execution_count": 33,
   "metadata": {},
   "outputs": [],
   "source": [
    "to_show = [ i[0] for i in dts if i[0]['time']==\"Sat Mar 22 22:06:04 2025\"]"
   ]
  },
  {
   "cell_type": "code",
   "execution_count": 36,
   "metadata": {},
   "outputs": [],
   "source": [
    "to_show = [{'_id': ('67e063dcb7315b58ceabdcfb'), 'email': 'parab.aryan@gmail.com', 'recipe': \"Okay, Chef! Here's a 3-week Mediterranean/American fusion meal plan using your grocery list. I've focused on using all ingredients efficiently and providing variety while sticking to your specified meals (Breakfast and Dinner) and serving sizes (1).\\n\\n**Important Notes:**\\n\\n*   **Seasoning:** I'm assuming you have basic seasonings like salt, pepper, and maybe some dried herbs (oregano, basil, thyme). Adjust seasoning to your liking.\\n*   **Flexibility:** Feel free to swap meals between days if something sounds better to you on a different day. This is a guide, not a rigid rulebook!\\n*   **Storage:** Store leftovers properly in the refrigerator.\\n*   **Ingredient Optimization:** I've planned to use ingredients across multiple weeks to minimize waste.\\n\\n## **Week 1: Mediterranean Start**\\n\\n**Day 1: Monday**\\n\\n*   **Breakfast:** Scrambled Eggs (2) with diced Tomatoes and Spinach (from Ralphs).\\n    *   *Ingredients:* 2 Eggs, handful of Spinach, 1/4 Tomato, salt, pepper.\\n    *   *Instructions:* Whisk eggs, add chopped spinach and tomato. Scramble in a pan.\\n*   **Dinner:** Mediterranean Lentil Soup\\n    *   *Ingredients:* 1/4 cup Lentils, 1/4 Red Onion (diced), 1 clove Garlic (minced), 1/4 can Chickpeas, 1/2 Tomato (diced), water/broth, Lemon juice, Olive Oil.\\n    *   *Instructions:* Saute onion and garlic in olive oil. Add lentils, tomatoes, chickpeas, and water/broth. Simmer until lentils are tender. Season with lemon juice, salt, and pepper.\\n\\n**Day 2: Tuesday**\\n\\n*   **Breakfast:** Avocado Toast with Egg\\n    *   *Ingredients:* 1 slice Whole Wheat Bread, 1/4 Avocado (mashed), 1 Egg (fried or poached).\\n    *   *Instructions:* Toast bread, spread avocado, top with egg.\\n*   **Dinner:** Lamb and Rice Bowl with Cucumber and Tomato Salad\\n    *   *Ingredients:* 1/6 lb Ground Lamb (browned), 1/2 cup Cooked Rice, 1/4 Cucumber (diced), 1/4 Tomato (diced), Red Onion (thinly sliced).\\n    *   *Instructions:* Combine rice, browned lamb, cucumber, tomato, and red onion.\\n\\n**Day 3: Wednesday**\\n\\n*   **Breakfast:** Omelette with Spinach and Tomato\\n    *   *Ingredients:* 2 Eggs, handful of Spinach, 1/4 Tomato, salt, pepper.\\n    *   *Instructions:* Whisk eggs, add chopped spinach and tomato. Cook as an omelette.\\n*   **Dinner:** Chickpea and Vegetable Salad with Lemon Vinaigrette\\n    *   *Ingredients:* 1/4 can Chickpeas, Lettuce, 1/4 Tomato (diced), 1/4 Cucumber (diced), Red Onion (thinly sliced), Lemon juice, Olive Oil.\\n    *   *Instructions:* Combine all ingredients. Dress with lemon juice and olive oil.\\n\\n**Day 4: Thursday**\\n\\n*   **Breakfast:** Scrambled Eggs (2) with Olives and Red Onion\\n    *   *Ingredients:* 2 Eggs, 1 tbsp Olives (chopped), 1 tbsp Red Onion (diced).\\n    *   *Instructions:* Whisk eggs, add olives and red onion. Scramble in a pan.\\n*   **Dinner:** Lamb and Lentil Stew\\n    *   *Ingredients:* 1/6 lb Ground Lamb (browned), 1/4 cup Lentils, 1/4 Red Onion (diced), 1 clove Garlic (minced), water/broth, Tomato (diced).\\n    *   *Instructions:* Saute onion and garlic in olive oil. Add lamb, lentils, tomatoes, and water/broth. Simmer until lentils are tender.\\n\\n**Day 5: Friday**\\n\\n*   **Breakfast:** Avocado and Egg on Toast\\n    *   *Ingredients:* 1 slice Whole Wheat Bread, 1/4 Avocado (mashed), 1 Egg (fried or poached).\\n    *   *Instructions:* Toast bread, spread avocado, top with egg.\\n*   **Dinner:** Greek Salad with Chickpeas\\n    *   *Ingredients:* Lettuce, Tomato, Cucumber, Red Onion, 1/4 can Chickpeas, Olives, Lemon juice, Olive Oil.\\n    *   *Instructions:* Combine all ingredients. Dress with lemon juice and olive oil.\\n\\n**Day 6: Saturday**\\n\\n*   **Breakfast:** Scrambled Eggs (2) with Spinach and Red Onion\\n    *   *Ingredients:* 2 Eggs, handful of Spinach, 1 tbsp Red Onion (diced).\\n    *   *Instructions:* Whisk eggs, add chopped spinach and red onion. Scramble in a pan.\\n*   **Dinner:** Lamb Rice Bowl with Tomato and Cucumber.\\n    *   *Ingredients:* 1/6 lb Ground Lamb (browned), 1/2 cup Cooked Rice, 1/4 Cucumber (diced), 1/4 Tomato (diced), Red Onion (thinly sliced).\\n    *   *Instructions:* Combine rice, browned lamb, cucumber, tomato, and red onion.\\n\\n**Day 7: Sunday**\\n\\n*   **Breakfast:** Omelette with Tomato and Olives\\n    *   *Ingredients:* 2 Eggs, 1/4 Tomato, 1 tbsp Olives, salt, pepper.\\n    *   *Instructions:* Whisk eggs, add chopped tomato and olives. Cook as an omelette.\\n*   **Dinner:** Mediterranean Lentil Soup (using remaining lentils)\\n    *   *Ingredients:* Remaining Lentils, 1/4 Red Onion (diced), 1 clove Garlic (minced), Remaining Chickpeas, Tomato (diced), water/broth, Lemon juice, Olive Oil.\\n    *   *Instructions:* Sauté onion and garlic in olive oil. Add lentils, tomatoes, chickpeas, and water/broth. Simmer until lentils are tender. Season with lemon juice, salt, and pepper.\\n\\n**Rewarding Day : Day 8, Monday**\\n*   **Breakfast:** Avocado and Egg Toast with Feta Cheese and Hot Sauce\\n    *   *Ingredients:* 1 slice Whole Wheat Bread, 1/4 Avocado (mashed), 1 Egg (fried or poached), Hot Sauce.\\n    *   *Instructions:* Toast bread, spread avocado, top with egg. Sprinkle hot sauce\\n*   **Dinner:** Tuna Salad Sandwich\\n    *   *Ingredients:* Tuna In water(0.33 can), Whole Wheat Bread(2), Spinach.\\n    *   *Instructions:* Drain tuna, add some spinach. Put it on bread slices.\\n\\n## **Week 2: Chicken and Mediterranean Continued**\\n\\n**Day 8: Monday**\\n\\n*   **Breakfast:** Scrambled Eggs (2) with Spinach.\\n    *   *Ingredients:* 2 Eggs, handful of Spinach, salt, pepper.\\n    *   *Instructions:* Whisk eggs, add chopped spinach. Scramble in a pan.\\n*   **Dinner:** Chicken and Rice Bowl with Cucumber and Tomato\\n    *   *Ingredients:* 1/4 lb Chicken Breast (cooked and diced), 1/2 cup Cooked Rice, 1/4 Cucumber (diced), 1/4 Tomato (diced).\\n    *   *Instructions:* Combine rice, chicken, cucumber, and tomato.\\n\\n**Day 9: Tuesday**\\n\\n*   **Breakfast:** Avocado Toast with Egg\\n    *   *Ingredients:* 1 slice Whole Wheat Bread, 1/4 Avocado (mashed), 1 Egg (fried or poached).\\n    *   *Instructions:* Toast bread, spread avocado, top with egg.\\n*   **Dinner:** Chicken Salad with Lettuce and Tomato\\n    *   *Ingredients:* 1/4 lb Chicken Breast (cooked and shredded), Lettuce, 1/4 Tomato (diced), Olive Oil, Lemon juice.\\n    *   *Instructions:* Combine chicken, lettuce, and tomato. Dress with olive oil and lemon juice.\\n\\n**Day 10: Wednesday**\\n\\n*   **Breakfast:** Omelette with Spinach and Tomato\\n    *   *Ingredients:* 2 Eggs, handful of Spinach, 1/4 Tomato, salt, pepper.\\n    *   *Instructions:* Whisk eggs, add chopped spinach and tomato. Cook as an omelette.\\n*   **Dinner:** Chicken and Chickpea Salad\\n    *   *Ingredients:* 1/4 lb Chicken Breast (cooked and diced), 1/4 can Chickpeas, Lettuce, Cucumber.\\n    *   *Instructions:* Combine all ingredients.\\n\\n**Day 11: Thursday**\\n\\n*   **Breakfast:** Scrambled Eggs (2) with Red Onion\\n    *   *Ingredients:* 2 Eggs, 1 tbsp Red Onion (diced).\\n    *   *Instructions:* Whisk eggs, add red onion. Scramble in a pan.\\n*   **Dinner:** Chicken and Rice with Spinach\\n    *   *Ingredients:* 1/4 lb Chicken Breast (cooked and diced), 1/2 cup Cooked Rice, handful of Spinach.\\n    *   *Instructions:* Combine rice, chicken, and spinach.\\n\\n**Day 12: Friday**\\n\\n*   **Breakfast:** Avocado and Egg on Toast\\n    *   *Ingredients:* 1 slice Whole Wheat Bread, 1/4 Avocado (mashed), 1 Egg (fried or poached).\\n    *   *Instructions:* Toast bread, spread avocado, top with egg.\\n*   **Dinner:** Chicken and Vegetable Skewers (deconstructed)\\n    *   *Ingredients:* 1/4 lb Chicken Breast (cooked and diced), Tomato, Cucumber, Red Onion.\\n    *   *Instructions:* Arrange the ingredients on a plate.\\n\\n**Day 13: Saturday**\\n\\n*   **Breakfast:** Scrambled Eggs (2) with Tomato\\n    *   *Ingredients:* 2 Eggs, 1/4 Tomato (diced).\\n    *   *Instructions:* Whisk eggs, add tomato. Scramble in a pan.\\n*   **Dinner:** Chicken Rice Bowl with Tomato and Cucumber.\\n    *   *Ingredients:* 1/4 lb Chicken Breast (cooked and diced), 1/2 cup Cooked Rice, 1/4 Cucumber (diced), 1/4 Tomato (diced).\\n    *   *Instructions:* Combine rice, chicken, cucumber, and tomato.\\n\\n**Day 14: Sunday**\\n\\n*   **Breakfast:** Omelette with Spinach\\n    *   *Ingredients:* 2 Eggs, handful of Spinach, salt, pepper.\\n    *   *Instructions:* Whisk eggs, add chopped spinach. Cook as an omelette.\\n*   **Dinner:** Chicken Salad Sandwich\\n    *   *Ingredients:* 1/4 lb Chicken Breast (cooked and shredded), Whole Wheat Bread (2 slices), Lettuce, Tomato.\\n    *   *Instructions:* Combine chicken, lettuce, and tomato. Place on bread.\\n\\n## **Week 3: Tuna and Chicken Finale**\\n\\n**Day 15: Monday**\\n\\n*   **Breakfast:** Scrambled Eggs (2) with Spinach and Red Onion\\n    *   *Ingredients:* 2 Eggs, handful of Spinach, 1 tbsp Red Onion (diced).\\n    *   *Instructions:* Whisk eggs, add chopped spinach and red onion. Scramble in a pan.\\n*   **Dinner:** Tuna and Quinoa Salad\\n    *   *Ingredients:* 0.33 can Tuna, 1/2 cup Cooked Quinoa, Cucumber, Tomato, Red Onion.\\n    *   *Instructions:* Combine all ingredients.\\n\\n**Day 16: Tuesday**\\n\\n*   **Breakfast:** Avocado Toast with Egg\\n    *   *Ingredients:* 1 slice Whole Wheat Bread, 1/4 Avocado (mashed), 1 Egg (fried or poached).\\n    *   *Instructions:* Toast bread, spread avocado, top with egg.\\n*   **Dinner:** Chicken and Quinoa Bowl with Spinach\\n    *   *Ingredients:* 1/4 lb Chicken Breast (cooked and diced), 1/2 cup Cooked Quinoa, handful of Spinach.\\n    *   *Instructions:* Combine quinoa, chicken, and spinach.\\n\\n**Day 17: Wednesday**\\n\\n*   **Breakfast:** Omelette with Tomato and Feta\\n    *   *Ingredients:* 2 Eggs, 1/4 Tomato, 1 oz Feta Cheese.\\n    *   *Instructions:* Whisk eggs, add chopped tomato and feta. Cook as an omelette.\\n*   **Dinner:** Tuna Salad with Lettuce and Cucumber\\n    *   *Ingredients:* 0.33 can Tuna, Lettuce, 1/4 Cucumber (diced), Olive Oil, Lemon juice.\\n    *   *Instructions:* Combine tuna and cucumber. Dress with olive oil and lemon juice. Serve over lettuce.\\n\\n**Day 18: Thursday**\\n\\n*   **Breakfast:** Scrambled Eggs (2) with Olives\\n    *   *Ingredients:* 2 Eggs, 1 tbsp Olives (chopped).\\n    *   *Instructions:* Whisk eggs, add olives. Scramble in a pan.\\n*   **Dinner:** Chicken and Quinoa with Tomato and Cucumber\\n    *   *Ingredients:* 1/4 lb Chicken Breast (cooked and diced), 1/2 cup Cooked Quinoa, Tomato, Cucumber.\\n    *   *Instructions:* Combine all ingredients.\\n\\n**Day 19: Friday**\\n\\n*   **Breakfast:** Avocado and Egg on Toast\\n    *   *Ingredients:* 1 slice Whole Wheat Bread, 1/4 Avocado (mashed), 1 Egg (fried or poached).\\n    *   *Instructions:* Toast bread, spread avocado, top with egg.\\n*   **Dinner:** Tuna and Chickpea Salad\\n    *   *Ingredients:* 0.33 can Tuna, Remaining Chickpeas, Lettuce, Red Onion.\\n    *   *Instructions:* Combine all ingredients.\\n\\n**Day 20: Saturday**\\n\\n*   **Breakfast:** Scrambled Eggs (2) with Feta Cheese\\n    *   *Ingredients:* 2 Eggs, 1 oz Feta Cheese.\\n    *   *Instructions:* Whisk eggs, add feta. Scramble in a pan.\\n*   **Dinner:** Chicken Rice Bowl with Tomato and Cucumber and Chickpeas\\n    *   *Ingredients:* 1/4 lb Chicken Breast (cooked and diced), 1/2 cup Cooked Rice, 1/4 Cucumber (diced), 1/4 Tomato (diced). 0.33 can Chickpeas\\n    *   *Instructions:* Combine rice, chicken, cucumber, tomato, Chickpeas\\n\\n**Day 21: Sunday**\\n\\n*   **Breakfast:** Omelette with Remaining Ingredients (Spinach, Tomato, etc.)\\n    *   *Ingredients:* 2 Eggs, Remaining Spinach/Tomato/Onion (if any).\\n    *   *Instructions:* Whisk eggs, add remaining vegetables. Cook as an omelette.\\n*   **Dinner:** Chicken Salad Sandwich\\n    *   *Ingredients:* Remaining Chicken Breast (cooked and shredded), Whole Wheat Bread (2 slices), Lettuce, Tomato.\\n    *   *Instructions:* Combine chicken, lettuce, and tomato. Place on bread.\\n\\n**Rewarding Day : Day 22, Monday**\\n*   **Breakfast:** Chicken Salad Sandwich\\n    *   *Ingredients:* Remaining Chicken Breast (cooked and shredded), Whole Wheat Bread (2 slices), Lettuce, Tomato.\\n    *   *Instructions:* Combine chicken, lettuce, and tomato. Place on bread.\\n*   **Dinner:** Tuna Melt\\n    *   *Ingredients:* 0.33 can Tuna, Remaining Feta Cheese, Whole Wheat Bread (2 slices).\\n    *   *Instructions:* Combine tuna and feta. Place on bread and toast until cheese melts.\\n\\nEnjoy your culinary journey! Let me know if you have any other questions or need adjustments.\\n\", 'time': 'Sun Mar 23 12:00:39 2025', 'prompt': '\\n        The recipes displayed are for a duration of 3 weeks. They include the following - Chicken,Fish,Eggs.\\n        You will be provided recipes for : Breakfast,Dinner. No: of servings per meal : 1.\\n        Your selected cuisine preferences are : Mediterranean,American. \\n        comments you would like to add : \\n        '}]"
   ]
  },
  {
   "cell_type": "code",
   "execution_count": 47,
   "metadata": {},
   "outputs": [
    {
     "data": {
      "text/plain": [
       "'Sun Mar 23 12:00:39 2025'"
      ]
     },
     "execution_count": 47,
     "metadata": {},
     "output_type": "execute_result"
    }
   ],
   "source": [
    "to_show[0]['time']"
   ]
  },
  {
   "cell_type": "code",
   "execution_count": 59,
   "metadata": {},
   "outputs": [
    {
     "data": {
      "text/plain": [
       "[{'_id': '67e063dcb7315b58ceabdcfb',\n",
       "  'email': 'parab.aryan@gmail.com',\n",
       "  'recipe': \"Okay, Chef! Here's a 3-week Mediterranean/American fusion meal plan using your grocery list. I've focused on using all ingredients efficiently and providing variety while sticking to your specified meals (Breakfast and Dinner) and serving sizes (1).\\n\\n**Important Notes:**\\n\\n*   **Seasoning:** I'm assuming you have basic seasonings like salt, pepper, and maybe some dried herbs (oregano, basil, thyme). Adjust seasoning to your liking.\\n*   **Flexibility:** Feel free to swap meals between days if something sounds better to you on a different day. This is a guide, not a rigid rulebook!\\n*   **Storage:** Store leftovers properly in the refrigerator.\\n*   **Ingredient Optimization:** I've planned to use ingredients across multiple weeks to minimize waste.\\n\\n## **Week 1: Mediterranean Start**\\n\\n**Day 1: Monday**\\n\\n*   **Breakfast:** Scrambled Eggs (2) with diced Tomatoes and Spinach (from Ralphs).\\n    *   *Ingredients:* 2 Eggs, handful of Spinach, 1/4 Tomato, salt, pepper.\\n    *   *Instructions:* Whisk eggs, add chopped spinach and tomato. Scramble in a pan.\\n*   **Dinner:** Mediterranean Lentil Soup\\n    *   *Ingredients:* 1/4 cup Lentils, 1/4 Red Onion (diced), 1 clove Garlic (minced), 1/4 can Chickpeas, 1/2 Tomato (diced), water/broth, Lemon juice, Olive Oil.\\n    *   *Instructions:* Saute onion and garlic in olive oil. Add lentils, tomatoes, chickpeas, and water/broth. Simmer until lentils are tender. Season with lemon juice, salt, and pepper.\\n\\n**Day 2: Tuesday**\\n\\n*   **Breakfast:** Avocado Toast with Egg\\n    *   *Ingredients:* 1 slice Whole Wheat Bread, 1/4 Avocado (mashed), 1 Egg (fried or poached).\\n    *   *Instructions:* Toast bread, spread avocado, top with egg.\\n*   **Dinner:** Lamb and Rice Bowl with Cucumber and Tomato Salad\\n    *   *Ingredients:* 1/6 lb Ground Lamb (browned), 1/2 cup Cooked Rice, 1/4 Cucumber (diced), 1/4 Tomato (diced), Red Onion (thinly sliced).\\n    *   *Instructions:* Combine rice, browned lamb, cucumber, tomato, and red onion.\\n\\n**Day 3: Wednesday**\\n\\n*   **Breakfast:** Omelette with Spinach and Tomato\\n    *   *Ingredients:* 2 Eggs, handful of Spinach, 1/4 Tomato, salt, pepper.\\n    *   *Instructions:* Whisk eggs, add chopped spinach and tomato. Cook as an omelette.\\n*   **Dinner:** Chickpea and Vegetable Salad with Lemon Vinaigrette\\n    *   *Ingredients:* 1/4 can Chickpeas, Lettuce, 1/4 Tomato (diced), 1/4 Cucumber (diced), Red Onion (thinly sliced), Lemon juice, Olive Oil.\\n    *   *Instructions:* Combine all ingredients. Dress with lemon juice and olive oil.\\n\\n**Day 4: Thursday**\\n\\n*   **Breakfast:** Scrambled Eggs (2) with Olives and Red Onion\\n    *   *Ingredients:* 2 Eggs, 1 tbsp Olives (chopped), 1 tbsp Red Onion (diced).\\n    *   *Instructions:* Whisk eggs, add olives and red onion. Scramble in a pan.\\n*   **Dinner:** Lamb and Lentil Stew\\n    *   *Ingredients:* 1/6 lb Ground Lamb (browned), 1/4 cup Lentils, 1/4 Red Onion (diced), 1 clove Garlic (minced), water/broth, Tomato (diced).\\n    *   *Instructions:* Saute onion and garlic in olive oil. Add lamb, lentils, tomatoes, and water/broth. Simmer until lentils are tender.\\n\\n**Day 5: Friday**\\n\\n*   **Breakfast:** Avocado and Egg on Toast\\n    *   *Ingredients:* 1 slice Whole Wheat Bread, 1/4 Avocado (mashed), 1 Egg (fried or poached).\\n    *   *Instructions:* Toast bread, spread avocado, top with egg.\\n*   **Dinner:** Greek Salad with Chickpeas\\n    *   *Ingredients:* Lettuce, Tomato, Cucumber, Red Onion, 1/4 can Chickpeas, Olives, Lemon juice, Olive Oil.\\n    *   *Instructions:* Combine all ingredients. Dress with lemon juice and olive oil.\\n\\n**Day 6: Saturday**\\n\\n*   **Breakfast:** Scrambled Eggs (2) with Spinach and Red Onion\\n    *   *Ingredients:* 2 Eggs, handful of Spinach, 1 tbsp Red Onion (diced).\\n    *   *Instructions:* Whisk eggs, add chopped spinach and red onion. Scramble in a pan.\\n*   **Dinner:** Lamb Rice Bowl with Tomato and Cucumber.\\n    *   *Ingredients:* 1/6 lb Ground Lamb (browned), 1/2 cup Cooked Rice, 1/4 Cucumber (diced), 1/4 Tomato (diced), Red Onion (thinly sliced).\\n    *   *Instructions:* Combine rice, browned lamb, cucumber, tomato, and red onion.\\n\\n**Day 7: Sunday**\\n\\n*   **Breakfast:** Omelette with Tomato and Olives\\n    *   *Ingredients:* 2 Eggs, 1/4 Tomato, 1 tbsp Olives, salt, pepper.\\n    *   *Instructions:* Whisk eggs, add chopped tomato and olives. Cook as an omelette.\\n*   **Dinner:** Mediterranean Lentil Soup (using remaining lentils)\\n    *   *Ingredients:* Remaining Lentils, 1/4 Red Onion (diced), 1 clove Garlic (minced), Remaining Chickpeas, Tomato (diced), water/broth, Lemon juice, Olive Oil.\\n    *   *Instructions:* Sauté onion and garlic in olive oil. Add lentils, tomatoes, chickpeas, and water/broth. Simmer until lentils are tender. Season with lemon juice, salt, and pepper.\\n\\n**Rewarding Day : Day 8, Monday**\\n*   **Breakfast:** Avocado and Egg Toast with Feta Cheese and Hot Sauce\\n    *   *Ingredients:* 1 slice Whole Wheat Bread, 1/4 Avocado (mashed), 1 Egg (fried or poached), Hot Sauce.\\n    *   *Instructions:* Toast bread, spread avocado, top with egg. Sprinkle hot sauce\\n*   **Dinner:** Tuna Salad Sandwich\\n    *   *Ingredients:* Tuna In water(0.33 can), Whole Wheat Bread(2), Spinach.\\n    *   *Instructions:* Drain tuna, add some spinach. Put it on bread slices.\\n\\n## **Week 2: Chicken and Mediterranean Continued**\\n\\n**Day 8: Monday**\\n\\n*   **Breakfast:** Scrambled Eggs (2) with Spinach.\\n    *   *Ingredients:* 2 Eggs, handful of Spinach, salt, pepper.\\n    *   *Instructions:* Whisk eggs, add chopped spinach. Scramble in a pan.\\n*   **Dinner:** Chicken and Rice Bowl with Cucumber and Tomato\\n    *   *Ingredients:* 1/4 lb Chicken Breast (cooked and diced), 1/2 cup Cooked Rice, 1/4 Cucumber (diced), 1/4 Tomato (diced).\\n    *   *Instructions:* Combine rice, chicken, cucumber, and tomato.\\n\\n**Day 9: Tuesday**\\n\\n*   **Breakfast:** Avocado Toast with Egg\\n    *   *Ingredients:* 1 slice Whole Wheat Bread, 1/4 Avocado (mashed), 1 Egg (fried or poached).\\n    *   *Instructions:* Toast bread, spread avocado, top with egg.\\n*   **Dinner:** Chicken Salad with Lettuce and Tomato\\n    *   *Ingredients:* 1/4 lb Chicken Breast (cooked and shredded), Lettuce, 1/4 Tomato (diced), Olive Oil, Lemon juice.\\n    *   *Instructions:* Combine chicken, lettuce, and tomato. Dress with olive oil and lemon juice.\\n\\n**Day 10: Wednesday**\\n\\n*   **Breakfast:** Omelette with Spinach and Tomato\\n    *   *Ingredients:* 2 Eggs, handful of Spinach, 1/4 Tomato, salt, pepper.\\n    *   *Instructions:* Whisk eggs, add chopped spinach and tomato. Cook as an omelette.\\n*   **Dinner:** Chicken and Chickpea Salad\\n    *   *Ingredients:* 1/4 lb Chicken Breast (cooked and diced), 1/4 can Chickpeas, Lettuce, Cucumber.\\n    *   *Instructions:* Combine all ingredients.\\n\\n**Day 11: Thursday**\\n\\n*   **Breakfast:** Scrambled Eggs (2) with Red Onion\\n    *   *Ingredients:* 2 Eggs, 1 tbsp Red Onion (diced).\\n    *   *Instructions:* Whisk eggs, add red onion. Scramble in a pan.\\n*   **Dinner:** Chicken and Rice with Spinach\\n    *   *Ingredients:* 1/4 lb Chicken Breast (cooked and diced), 1/2 cup Cooked Rice, handful of Spinach.\\n    *   *Instructions:* Combine rice, chicken, and spinach.\\n\\n**Day 12: Friday**\\n\\n*   **Breakfast:** Avocado and Egg on Toast\\n    *   *Ingredients:* 1 slice Whole Wheat Bread, 1/4 Avocado (mashed), 1 Egg (fried or poached).\\n    *   *Instructions:* Toast bread, spread avocado, top with egg.\\n*   **Dinner:** Chicken and Vegetable Skewers (deconstructed)\\n    *   *Ingredients:* 1/4 lb Chicken Breast (cooked and diced), Tomato, Cucumber, Red Onion.\\n    *   *Instructions:* Arrange the ingredients on a plate.\\n\\n**Day 13: Saturday**\\n\\n*   **Breakfast:** Scrambled Eggs (2) with Tomato\\n    *   *Ingredients:* 2 Eggs, 1/4 Tomato (diced).\\n    *   *Instructions:* Whisk eggs, add tomato. Scramble in a pan.\\n*   **Dinner:** Chicken Rice Bowl with Tomato and Cucumber.\\n    *   *Ingredients:* 1/4 lb Chicken Breast (cooked and diced), 1/2 cup Cooked Rice, 1/4 Cucumber (diced), 1/4 Tomato (diced).\\n    *   *Instructions:* Combine rice, chicken, cucumber, and tomato.\\n\\n**Day 14: Sunday**\\n\\n*   **Breakfast:** Omelette with Spinach\\n    *   *Ingredients:* 2 Eggs, handful of Spinach, salt, pepper.\\n    *   *Instructions:* Whisk eggs, add chopped spinach. Cook as an omelette.\\n*   **Dinner:** Chicken Salad Sandwich\\n    *   *Ingredients:* 1/4 lb Chicken Breast (cooked and shredded), Whole Wheat Bread (2 slices), Lettuce, Tomato.\\n    *   *Instructions:* Combine chicken, lettuce, and tomato. Place on bread.\\n\\n## **Week 3: Tuna and Chicken Finale**\\n\\n**Day 15: Monday**\\n\\n*   **Breakfast:** Scrambled Eggs (2) with Spinach and Red Onion\\n    *   *Ingredients:* 2 Eggs, handful of Spinach, 1 tbsp Red Onion (diced).\\n    *   *Instructions:* Whisk eggs, add chopped spinach and red onion. Scramble in a pan.\\n*   **Dinner:** Tuna and Quinoa Salad\\n    *   *Ingredients:* 0.33 can Tuna, 1/2 cup Cooked Quinoa, Cucumber, Tomato, Red Onion.\\n    *   *Instructions:* Combine all ingredients.\\n\\n**Day 16: Tuesday**\\n\\n*   **Breakfast:** Avocado Toast with Egg\\n    *   *Ingredients:* 1 slice Whole Wheat Bread, 1/4 Avocado (mashed), 1 Egg (fried or poached).\\n    *   *Instructions:* Toast bread, spread avocado, top with egg.\\n*   **Dinner:** Chicken and Quinoa Bowl with Spinach\\n    *   *Ingredients:* 1/4 lb Chicken Breast (cooked and diced), 1/2 cup Cooked Quinoa, handful of Spinach.\\n    *   *Instructions:* Combine quinoa, chicken, and spinach.\\n\\n**Day 17: Wednesday**\\n\\n*   **Breakfast:** Omelette with Tomato and Feta\\n    *   *Ingredients:* 2 Eggs, 1/4 Tomato, 1 oz Feta Cheese.\\n    *   *Instructions:* Whisk eggs, add chopped tomato and feta. Cook as an omelette.\\n*   **Dinner:** Tuna Salad with Lettuce and Cucumber\\n    *   *Ingredients:* 0.33 can Tuna, Lettuce, 1/4 Cucumber (diced), Olive Oil, Lemon juice.\\n    *   *Instructions:* Combine tuna and cucumber. Dress with olive oil and lemon juice. Serve over lettuce.\\n\\n**Day 18: Thursday**\\n\\n*   **Breakfast:** Scrambled Eggs (2) with Olives\\n    *   *Ingredients:* 2 Eggs, 1 tbsp Olives (chopped).\\n    *   *Instructions:* Whisk eggs, add olives. Scramble in a pan.\\n*   **Dinner:** Chicken and Quinoa with Tomato and Cucumber\\n    *   *Ingredients:* 1/4 lb Chicken Breast (cooked and diced), 1/2 cup Cooked Quinoa, Tomato, Cucumber.\\n    *   *Instructions:* Combine all ingredients.\\n\\n**Day 19: Friday**\\n\\n*   **Breakfast:** Avocado and Egg on Toast\\n    *   *Ingredients:* 1 slice Whole Wheat Bread, 1/4 Avocado (mashed), 1 Egg (fried or poached).\\n    *   *Instructions:* Toast bread, spread avocado, top with egg.\\n*   **Dinner:** Tuna and Chickpea Salad\\n    *   *Ingredients:* 0.33 can Tuna, Remaining Chickpeas, Lettuce, Red Onion.\\n    *   *Instructions:* Combine all ingredients.\\n\\n**Day 20: Saturday**\\n\\n*   **Breakfast:** Scrambled Eggs (2) with Feta Cheese\\n    *   *Ingredients:* 2 Eggs, 1 oz Feta Cheese.\\n    *   *Instructions:* Whisk eggs, add feta. Scramble in a pan.\\n*   **Dinner:** Chicken Rice Bowl with Tomato and Cucumber and Chickpeas\\n    *   *Ingredients:* 1/4 lb Chicken Breast (cooked and diced), 1/2 cup Cooked Rice, 1/4 Cucumber (diced), 1/4 Tomato (diced). 0.33 can Chickpeas\\n    *   *Instructions:* Combine rice, chicken, cucumber, tomato, Chickpeas\\n\\n**Day 21: Sunday**\\n\\n*   **Breakfast:** Omelette with Remaining Ingredients (Spinach, Tomato, etc.)\\n    *   *Ingredients:* 2 Eggs, Remaining Spinach/Tomato/Onion (if any).\\n    *   *Instructions:* Whisk eggs, add remaining vegetables. Cook as an omelette.\\n*   **Dinner:** Chicken Salad Sandwich\\n    *   *Ingredients:* Remaining Chicken Breast (cooked and shredded), Whole Wheat Bread (2 slices), Lettuce, Tomato.\\n    *   *Instructions:* Combine chicken, lettuce, and tomato. Place on bread.\\n\\n**Rewarding Day : Day 22, Monday**\\n*   **Breakfast:** Chicken Salad Sandwich\\n    *   *Ingredients:* Remaining Chicken Breast (cooked and shredded), Whole Wheat Bread (2 slices), Lettuce, Tomato.\\n    *   *Instructions:* Combine chicken, lettuce, and tomato. Place on bread.\\n*   **Dinner:** Tuna Melt\\n    *   *Ingredients:* 0.33 can Tuna, Remaining Feta Cheese, Whole Wheat Bread (2 slices).\\n    *   *Instructions:* Combine tuna and feta. Place on bread and toast until cheese melts.\\n\\nEnjoy your culinary journey! Let me know if you have any other questions or need adjustments.\\n\",\n",
       "  'time': 'Sun Mar 23 12:00:39 2025',\n",
       "  'prompt': '\\n        The recipes displayed are for a duration of 3 weeks. They include the following - Chicken,Fish,Eggs.\\n        You will be provided recipes for : Breakfast,Dinner. No: of servings per meal : 1.\\n        Your selected cuisine preferences are : Mediterranean,American. \\n        comments you would like to add : \\n        '}]"
      ]
     },
     "execution_count": 59,
     "metadata": {},
     "output_type": "execute_result"
    }
   ],
   "source": [
    "[ i for i in to_show if str(i['time'])=='Sun Mar 23 12:00:39 2025']"
   ]
  },
  {
   "cell_type": "code",
   "execution_count": 60,
   "metadata": {},
   "outputs": [],
   "source": [
    "rr = [{'_id': \n",
    "       ('67e063dcb7315b58ceabdcfb'), 'email': 'parab.aryan@gmail.com', 'recipe': \"Okay, Chef! Here's a 3-week Mediterranean/American fusion meal plan using your grocery list. I've focused on using all ingredients efficiently and providing variety while sticking to your specified meals (Breakfast and Dinner) and serving sizes (1).\\n\\n**Important Notes:**\\n\\n*   **Seasoning:** I'm assuming you have basic seasonings like salt, pepper, and maybe some dried herbs (oregano, basil, thyme). Adjust seasoning to your liking.\\n*   **Flexibility:** Feel free to swap meals between days if something sounds better to you on a different day. This is a guide, not a rigid rulebook!\\n*   **Storage:** Store leftovers properly in the refrigerator.\\n*   **Ingredient Optimization:** I've planned to use ingredients across multiple weeks to minimize waste.\\n\\n## **Week 1: Mediterranean Start**\\n\\n**Day 1: Monday**\\n\\n*   **Breakfast:** Scrambled Eggs (2) with diced Tomatoes and Spinach (from Ralphs).\\n    *   *Ingredients:* 2 Eggs, handful of Spinach, 1/4 Tomato, salt, pepper.\\n    *   *Instructions:* Whisk eggs, add chopped spinach and tomato. Scramble in a pan.\\n*   **Dinner:** Mediterranean Lentil Soup\\n    *   *Ingredients:* 1/4 cup Lentils, 1/4 Red Onion (diced), 1 clove Garlic (minced), 1/4 can Chickpeas, 1/2 Tomato (diced), water/broth, Lemon juice, Olive Oil.\\n    *   *Instructions:* Saute onion and garlic in olive oil. Add lentils, tomatoes, chickpeas, and water/broth. Simmer until lentils are tender. Season with lemon juice, salt, and pepper.\\n\\n**Day 2: Tuesday**\\n\\n*   **Breakfast:** Avocado Toast with Egg\\n    *   *Ingredients:* 1 slice Whole Wheat Bread, 1/4 Avocado (mashed), 1 Egg (fried or poached).\\n    *   *Instructions:* Toast bread, spread avocado, top with egg.\\n*   **Dinner:** Lamb and Rice Bowl with Cucumber and Tomato Salad\\n    *   *Ingredients:* 1/6 lb Ground Lamb (browned), 1/2 cup Cooked Rice, 1/4 Cucumber (diced), 1/4 Tomato (diced), Red Onion (thinly sliced).\\n    *   *Instructions:* Combine rice, browned lamb, cucumber, tomato, and red onion.\\n\\n**Day 3: Wednesday**\\n\\n*   **Breakfast:** Omelette with Spinach and Tomato\\n    *   *Ingredients:* 2 Eggs, handful of Spinach, 1/4 Tomato, salt, pepper.\\n    *   *Instructions:* Whisk eggs, add chopped spinach and tomato. Cook as an omelette.\\n*   **Dinner:** Chickpea and Vegetable Salad with Lemon Vinaigrette\\n    *   *Ingredients:* 1/4 can Chickpeas, Lettuce, 1/4 Tomato (diced), 1/4 Cucumber (diced), Red Onion (thinly sliced), Lemon juice, Olive Oil.\\n    *   *Instructions:* Combine all ingredients. Dress with lemon juice and olive oil.\\n\\n**Day 4: Thursday**\\n\\n*   **Breakfast:** Scrambled Eggs (2) with Olives and Red Onion\\n    *   *Ingredients:* 2 Eggs, 1 tbsp Olives (chopped), 1 tbsp Red Onion (diced).\\n    *   *Instructions:* Whisk eggs, add olives and red onion. Scramble in a pan.\\n*   **Dinner:** Lamb and Lentil Stew\\n    *   *Ingredients:* 1/6 lb Ground Lamb (browned), 1/4 cup Lentils, 1/4 Red Onion (diced), 1 clove Garlic (minced), water/broth, Tomato (diced).\\n    *   *Instructions:* Saute onion and garlic in olive oil. Add lamb, lentils, tomatoes, and water/broth. Simmer until lentils are tender.\\n\\n**Day 5: Friday**\\n\\n*   **Breakfast:** Avocado and Egg on Toast\\n    *   *Ingredients:* 1 slice Whole Wheat Bread, 1/4 Avocado (mashed), 1 Egg (fried or poached).\\n    *   *Instructions:* Toast bread, spread avocado, top with egg.\\n*   **Dinner:** Greek Salad with Chickpeas\\n    *   *Ingredients:* Lettuce, Tomato, Cucumber, Red Onion, 1/4 can Chickpeas, Olives, Lemon juice, Olive Oil.\\n    *   *Instructions:* Combine all ingredients. Dress with lemon juice and olive oil.\\n\\n**Day 6: Saturday**\\n\\n*   **Breakfast:** Scrambled Eggs (2) with Spinach and Red Onion\\n    *   *Ingredients:* 2 Eggs, handful of Spinach, 1 tbsp Red Onion (diced).\\n    *   *Instructions:* Whisk eggs, add chopped spinach and red onion. Scramble in a pan.\\n*   **Dinner:** Lamb Rice Bowl with Tomato and Cucumber.\\n    *   *Ingredients:* 1/6 lb Ground Lamb (browned), 1/2 cup Cooked Rice, 1/4 Cucumber (diced), 1/4 Tomato (diced), Red Onion (thinly sliced).\\n    *   *Instructions:* Combine rice, browned lamb, cucumber, tomato, and red onion.\\n\\n**Day 7: Sunday**\\n\\n*   **Breakfast:** Omelette with Tomato and Olives\\n    *   *Ingredients:* 2 Eggs, 1/4 Tomato, 1 tbsp Olives, salt, pepper.\\n    *   *Instructions:* Whisk eggs, add chopped tomato and olives. Cook as an omelette.\\n*   **Dinner:** Mediterranean Lentil Soup (using remaining lentils)\\n    *   *Ingredients:* Remaining Lentils, 1/4 Red Onion (diced), 1 clove Garlic (minced), Remaining Chickpeas, Tomato (diced), water/broth, Lemon juice, Olive Oil.\\n    *   *Instructions:* Sauté onion and garlic in olive oil. Add lentils, tomatoes, chickpeas, and water/broth. Simmer until lentils are tender. Season with lemon juice, salt, and pepper.\\n\\n**Rewarding Day : Day 8, Monday**\\n*   **Breakfast:** Avocado and Egg Toast with Feta Cheese and Hot Sauce\\n    *   *Ingredients:* 1 slice Whole Wheat Bread, 1/4 Avocado (mashed), 1 Egg (fried or poached), Hot Sauce.\\n    *   *Instructions:* Toast bread, spread avocado, top with egg. Sprinkle hot sauce\\n*   **Dinner:** Tuna Salad Sandwich\\n    *   *Ingredients:* Tuna In water(0.33 can), Whole Wheat Bread(2), Spinach.\\n    *   *Instructions:* Drain tuna, add some spinach. Put it on bread slices.\\n\\n## **Week 2: Chicken and Mediterranean Continued**\\n\\n**Day 8: Monday**\\n\\n*   **Breakfast:** Scrambled Eggs (2) with Spinach.\\n    *   *Ingredients:* 2 Eggs, handful of Spinach, salt, pepper.\\n    *   *Instructions:* Whisk eggs, add chopped spinach. Scramble in a pan.\\n*   **Dinner:** Chicken and Rice Bowl with Cucumber and Tomato\\n    *   *Ingredients:* 1/4 lb Chicken Breast (cooked and diced), 1/2 cup Cooked Rice, 1/4 Cucumber (diced), 1/4 Tomato (diced).\\n    *   *Instructions:* Combine rice, chicken, cucumber, and tomato.\\n\\n**Day 9: Tuesday**\\n\\n*   **Breakfast:** Avocado Toast with Egg\\n    *   *Ingredients:* 1 slice Whole Wheat Bread, 1/4 Avocado (mashed), 1 Egg (fried or poached).\\n    *   *Instructions:* Toast bread, spread avocado, top with egg.\\n*   **Dinner:** Chicken Salad with Lettuce and Tomato\\n    *   *Ingredients:* 1/4 lb Chicken Breast (cooked and shredded), Lettuce, 1/4 Tomato (diced), Olive Oil, Lemon juice.\\n    *   *Instructions:* Combine chicken, lettuce, and tomato. Dress with olive oil and lemon juice.\\n\\n**Day 10: Wednesday**\\n\\n*   **Breakfast:** Omelette with Spinach and Tomato\\n    *   *Ingredients:* 2 Eggs, handful of Spinach, 1/4 Tomato, salt, pepper.\\n    *   *Instructions:* Whisk eggs, add chopped spinach and tomato. Cook as an omelette.\\n*   **Dinner:** Chicken and Chickpea Salad\\n    *   *Ingredients:* 1/4 lb Chicken Breast (cooked and diced), 1/4 can Chickpeas, Lettuce, Cucumber.\\n    *   *Instructions:* Combine all ingredients.\\n\\n**Day 11: Thursday**\\n\\n*   **Breakfast:** Scrambled Eggs (2) with Red Onion\\n    *   *Ingredients:* 2 Eggs, 1 tbsp Red Onion (diced).\\n    *   *Instructions:* Whisk eggs, add red onion. Scramble in a pan.\\n*   **Dinner:** Chicken and Rice with Spinach\\n    *   *Ingredients:* 1/4 lb Chicken Breast (cooked and diced), 1/2 cup Cooked Rice, handful of Spinach.\\n    *   *Instructions:* Combine rice, chicken, and spinach.\\n\\n**Day 12: Friday**\\n\\n*   **Breakfast:** Avocado and Egg on Toast\\n    *   *Ingredients:* 1 slice Whole Wheat Bread, 1/4 Avocado (mashed), 1 Egg (fried or poached).\\n    *   *Instructions:* Toast bread, spread avocado, top with egg.\\n*   **Dinner:** Chicken and Vegetable Skewers (deconstructed)\\n    *   *Ingredients:* 1/4 lb Chicken Breast (cooked and diced), Tomato, Cucumber, Red Onion.\\n    *   *Instructions:* Arrange the ingredients on a plate.\\n\\n**Day 13: Saturday**\\n\\n*   **Breakfast:** Scrambled Eggs (2) with Tomato\\n    *   *Ingredients:* 2 Eggs, 1/4 Tomato (diced).\\n    *   *Instructions:* Whisk eggs, add tomato. Scramble in a pan.\\n*   **Dinner:** Chicken Rice Bowl with Tomato and Cucumber.\\n    *   *Ingredients:* 1/4 lb Chicken Breast (cooked and diced), 1/2 cup Cooked Rice, 1/4 Cucumber (diced), 1/4 Tomato (diced).\\n    *   *Instructions:* Combine rice, chicken, cucumber, and tomato.\\n\\n**Day 14: Sunday**\\n\\n*   **Breakfast:** Omelette with Spinach\\n    *   *Ingredients:* 2 Eggs, handful of Spinach, salt, pepper.\\n    *   *Instructions:* Whisk eggs, add chopped spinach. Cook as an omelette.\\n*   **Dinner:** Chicken Salad Sandwich\\n    *   *Ingredients:* 1/4 lb Chicken Breast (cooked and shredded), Whole Wheat Bread (2 slices), Lettuce, Tomato.\\n    *   *Instructions:* Combine chicken, lettuce, and tomato. Place on bread.\\n\\n## **Week 3: Tuna and Chicken Finale**\\n\\n**Day 15: Monday**\\n\\n*   **Breakfast:** Scrambled Eggs (2) with Spinach and Red Onion\\n    *   *Ingredients:* 2 Eggs, handful of Spinach, 1 tbsp Red Onion (diced).\\n    *   *Instructions:* Whisk eggs, add chopped spinach and red onion. Scramble in a pan.\\n*   **Dinner:** Tuna and Quinoa Salad\\n    *   *Ingredients:* 0.33 can Tuna, 1/2 cup Cooked Quinoa, Cucumber, Tomato, Red Onion.\\n    *   *Instructions:* Combine all ingredients.\\n\\n**Day 16: Tuesday**\\n\\n*   **Breakfast:** Avocado Toast with Egg\\n    *   *Ingredients:* 1 slice Whole Wheat Bread, 1/4 Avocado (mashed), 1 Egg (fried or poached).\\n    *   *Instructions:* Toast bread, spread avocado, top with egg.\\n*   **Dinner:** Chicken and Quinoa Bowl with Spinach\\n    *   *Ingredients:* 1/4 lb Chicken Breast (cooked and diced), 1/2 cup Cooked Quinoa, handful of Spinach.\\n    *   *Instructions:* Combine quinoa, chicken, and spinach.\\n\\n**Day 17: Wednesday**\\n\\n*   **Breakfast:** Omelette with Tomato and Feta\\n    *   *Ingredients:* 2 Eggs, 1/4 Tomato, 1 oz Feta Cheese.\\n    *   *Instructions:* Whisk eggs, add chopped tomato and feta. Cook as an omelette.\\n*   **Dinner:** Tuna Salad with Lettuce and Cucumber\\n    *   *Ingredients:* 0.33 can Tuna, Lettuce, 1/4 Cucumber (diced), Olive Oil, Lemon juice.\\n    *   *Instructions:* Combine tuna and cucumber. Dress with olive oil and lemon juice. Serve over lettuce.\\n\\n**Day 18: Thursday**\\n\\n*   **Breakfast:** Scrambled Eggs (2) with Olives\\n    *   *Ingredients:* 2 Eggs, 1 tbsp Olives (chopped).\\n    *   *Instructions:* Whisk eggs, add olives. Scramble in a pan.\\n*   **Dinner:** Chicken and Quinoa with Tomato and Cucumber\\n    *   *Ingredients:* 1/4 lb Chicken Breast (cooked and diced), 1/2 cup Cooked Quinoa, Tomato, Cucumber.\\n    *   *Instructions:* Combine all ingredients.\\n\\n**Day 19: Friday**\\n\\n*   **Breakfast:** Avocado and Egg on Toast\\n    *   *Ingredients:* 1 slice Whole Wheat Bread, 1/4 Avocado (mashed), 1 Egg (fried or poached).\\n    *   *Instructions:* Toast bread, spread avocado, top with egg.\\n*   **Dinner:** Tuna and Chickpea Salad\\n    *   *Ingredients:* 0.33 can Tuna, Remaining Chickpeas, Lettuce, Red Onion.\\n    *   *Instructions:* Combine all ingredients.\\n\\n**Day 20: Saturday**\\n\\n*   **Breakfast:** Scrambled Eggs (2) with Feta Cheese\\n    *   *Ingredients:* 2 Eggs, 1 oz Feta Cheese.\\n    *   *Instructions:* Whisk eggs, add feta. Scramble in a pan.\\n*   **Dinner:** Chicken Rice Bowl with Tomato and Cucumber and Chickpeas\\n    *   *Ingredients:* 1/4 lb Chicken Breast (cooked and diced), 1/2 cup Cooked Rice, 1/4 Cucumber (diced), 1/4 Tomato (diced). 0.33 can Chickpeas\\n    *   *Instructions:* Combine rice, chicken, cucumber, tomato, Chickpeas\\n\\n**Day 21: Sunday**\\n\\n*   **Breakfast:** Omelette with Remaining Ingredients (Spinach, Tomato, etc.)\\n    *   *Ingredients:* 2 Eggs, Remaining Spinach/Tomato/Onion (if any).\\n    *   *Instructions:* Whisk eggs, add remaining vegetables. Cook as an omelette.\\n*   **Dinner:** Chicken Salad Sandwich\\n    *   *Ingredients:* Remaining Chicken Breast (cooked and shredded), Whole Wheat Bread (2 slices), Lettuce, Tomato.\\n    *   *Instructions:* Combine chicken, lettuce, and tomato. Place on bread.\\n\\n**Rewarding Day : Day 22, Monday**\\n*   **Breakfast:** Chicken Salad Sandwich\\n    *   *Ingredients:* Remaining Chicken Breast (cooked and shredded), Whole Wheat Bread (2 slices), Lettuce, Tomato.\\n    *   *Instructions:* Combine chicken, lettuce, and tomato. Place on bread.\\n*   **Dinner:** Tuna Melt\\n    *   *Ingredients:* 0.33 can Tuna, Remaining Feta Cheese, Whole Wheat Bread (2 slices).\\n    *   *Instructions:* Combine tuna and feta. Place on bread and toast until cheese melts.\\n\\nEnjoy your culinary journey! Let me know if you have any other questions or need adjustments.\\n\", 'time': 'Sun Mar 23 12:00:39 2025', 'prompt': '\\n        The recipes displayed are for a duration of 3 weeks. They include the following - Chicken,Fish,Eggs.\\n        You will be provided recipes for : Breakfast,Dinner. No: of servings per meal : 1.\\n        Your selected cuisine preferences are : Mediterranean,American. \\n        comments you would like to add : \\n        '}]\n"
   ]
  },
  {
   "cell_type": "code",
   "execution_count": null,
   "metadata": {},
   "outputs": [
    {
     "data": {
      "text/plain": [
       "[]"
      ]
     },
     "execution_count": 71,
     "metadata": {},
     "output_type": "execute_result"
    }
   ],
   "source": [
    "[i for i in rr if i['time']==\"Sun Mar 23 2:00:39 2025\"]"
   ]
  },
  {
   "cell_type": "code",
   "execution_count": null,
   "metadata": {},
   "outputs": [],
   "source": []
  }
 ],
 "metadata": {
  "kernelspec": {
   "display_name": "venv1",
   "language": "python",
   "name": "python3"
  },
  "language_info": {
   "codemirror_mode": {
    "name": "ipython",
    "version": 3
   },
   "file_extension": ".py",
   "mimetype": "text/x-python",
   "name": "python",
   "nbconvert_exporter": "python",
   "pygments_lexer": "ipython3",
   "version": "3.9.12"
  }
 },
 "nbformat": 4,
 "nbformat_minor": 2
}
